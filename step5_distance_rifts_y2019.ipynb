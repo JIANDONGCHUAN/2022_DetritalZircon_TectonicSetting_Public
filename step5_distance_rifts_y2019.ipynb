{
 "cells": [
  {
   "cell_type": "code",
   "execution_count": 2,
   "metadata": {},
   "outputs": [
    {
     "name": "stderr",
     "output_type": "stream",
     "text": [
      "pygmt-session [WARNING]: Representation of font type not recognized. Using default.\n",
      "pygmt-session [WARNING]: Representation of font type not recognized. Using default.\n",
      "pygmt-session [WARNING]: Representation of font type not recognized. Using default.\n",
      "begin [WARNING]: Representation of font type not recognized. Using default.\n",
      "begin [WARNING]: Representation of font type not recognized. Using default.\n",
      "begin [WARNING]: Representation of font type not recognized. Using default.\n"
     ]
    }
   ],
   "source": [
    "import pandas as pd\n",
    "import numpy as np\n",
    "from pandas import Series,DataFrame\n",
    "\n",
    "import geopandas as gpd\n",
    "import pygplates\n",
    "from gprm import ReconstructionModel\n",
    "import get_distances_for_dataframe as gdfd\n"
   ]
  },
  {
   "cell_type": "code",
   "execution_count": 4,
   "metadata": {},
   "outputs": [],
   "source": [
    "from gprm.datasets import Reconstructions\n",
    "Rift2019 = Reconstructions.fetch_Young2019()\n",
    "\n",
    "import public\n",
    "active_rifts = public.fetch_active_rifts()\n",
    "inactive_rifts = public.fetch_inactive_rifts()\n",
    "active_passive_margin = public.fetch_active_passive_margin()\n",
    "inactive_passive_margin = public.fetch_inactive_passive_margin()"
   ]
  },
  {
   "cell_type": "code",
   "execution_count": 5,
   "metadata": {},
   "outputs": [
    {
     "name": "stdout",
     "output_type": "stream",
     "text": [
      "<pygplates.pygplates.FeatureCollection object at 0x0000013EFEB59BD0>\n"
     ]
    }
   ],
   "source": [
    "rifts = pygplates.FeatureCollection()\n",
    "list_of_riftfiles = ['{:s}'.format(active_rifts),\n",
    "                     '{:s}'.format(inactive_rifts)]\n",
    "for riftfile in list_of_riftfiles:\n",
    "    for feature in pygplates.FeatureCollection(riftfile):\n",
    "        rifts.add(feature)\n",
    "print(rifts)"
   ]
  },
  {
   "cell_type": "code",
   "execution_count": 6,
   "metadata": {},
   "outputs": [
    {
     "name": "stdout",
     "output_type": "stream",
     "text": [
      "103\n",
      "112\n",
      "134\n",
      "136\n"
     ]
    }
   ],
   "source": [
    "print(len(active_rifts))\n",
    "print(len(inactive_rifts))\n",
    "print(len(active_passive_margin))\n",
    "print(len(inactive_passive_margin))"
   ]
  },
  {
   "cell_type": "code",
   "execution_count": 8,
   "metadata": {},
   "outputs": [],
   "source": [
    "#isochron_feature_type = pygplates.FeatureType.to_qualified_string\n",
    "#all_isochrons = rifts.get(isochron_feature_type, pygplates.FeatureReturn.all)\n",
    "#print(all_isochrons)"
   ]
  },
  {
   "cell_type": "code",
   "execution_count": null,
   "metadata": {},
   "outputs": [],
   "source": []
  },
  {
   "cell_type": "code",
   "execution_count": 5,
   "metadata": {},
   "outputs": [
    {
     "name": "stdout",
     "output_type": "stream",
     "text": [
      "<pygplates.pygplates.FeatureCollection object at 0x00000268F7AA3E50>\n"
     ]
    }
   ],
   "source": [
    "rifts = pygplates.FeatureCollection()\n",
    "list_of_riftfiles = ['{:s}'.format(active_rifts),\n",
    "                     '{:s}'.format(inactive_rifts)]\n",
    "for riftfile in list_of_riftfiles:\n",
    "    for feature in pygplates.FeatureCollection(riftfile):\n",
    "        rifts.add(feature)\n",
    "print(rifts)\n",
    "\n",
    "rifts2 = pygplates.FeatureCollection()\n",
    "list_of_riftfiles2 = ['{:s}'.format(active_passive_margin),\n",
    "                      '{:s}'.format(inactive_passive_margin)]\n",
    "for riftfile in list_of_riftfiles2:\n",
    "    for feature in pygplates.FeatureCollection(riftfile):\n",
    "        rifts2.add(feature)\n",
    "        \n",
    "rifts3 = pygplates.FeatureCollection()\n",
    "list_of_riftfiles3 = ['{:s}'.format(active_rifts),\n",
    "                     '{:s}'.format(inactive_rifts),\n",
    "                     '{:s}'.format(active_passive_margin),\n",
    "                     '{:s}'.format(inactive_passive_margin)]\n",
    "for riftfile in list_of_riftfiles3:\n",
    "    for feature in pygplates.FeatureCollection(riftfile):\n",
    "        rifts3.add(feature)\n",
    "          \n",
    "rifts_active = pygplates.FeatureCollection()\n",
    "list_of_riftfiles_active = ['{:s}'.format(active_rifts),\n",
    "                            '{:s}'.format(active_passive_margin)]\n",
    "for riftfile in list_of_riftfiles_active:\n",
    "    for feature in pygplates.FeatureCollection(riftfile):\n",
    "        rifts_active.add(feature)\n",
    "        \n",
    "rifts_inactive = pygplates.FeatureCollection()\n",
    "list_of_riftfiles_inactive = ['{:s}'.format(inactive_rifts),\n",
    "                              '{:s}'.format(inactive_passive_margin)]\n",
    "for riftfile in list_of_riftfiles_inactive:\n",
    "    for feature in pygplates.FeatureCollection(riftfile):\n",
    "        rifts_inactive.add(feature)\n",
    "        \n",
    "rifts_active_pm = pygplates.FeatureCollection()\n",
    "list_of_riftfiles_active_pm = ['{:s}'.format(inactive_rifts),\n",
    "                              '{:s}'.format(active_passive_margin),\n",
    "                              '{:s}'.format(inactive_passive_margin)]\n",
    "for riftfile in list_of_riftfiles_active_pm:\n",
    "    for feature in pygplates.FeatureCollection(riftfile):\n",
    "        rifts_active_pm.add(feature)                "
   ]
  },
  {
   "cell_type": "code",
   "execution_count": 6,
   "metadata": {},
   "outputs": [],
   "source": [
    "df_ABC = pd.read_excel('data/DZDB3.xlsx',sheet_name=\"Samples\")\n",
    "df_ABC['FROMAGE'] = '0'\n",
    "df_ABC['TOAGE'] = '0'\n",
    "for i in range(len(df_ABC['FROMAGE'])):\n",
    "    df_ABC.loc[i,('FROMAGE')] = df_ABC.loc[i,('Est. Depos. Age (Ma)')] + 4.99\n",
    "    df_ABC.loc[i,('TOAGE')] = df_ABC.loc[i,('Est. Depos. Age (Ma)')] - 5"
   ]
  },
  {
   "cell_type": "code",
   "execution_count": 7,
   "metadata": {},
   "outputs": [],
   "source": [
    "Sample_Key = df_ABC['Ref_Sample_Key']\n",
    "Sample_Key = Sample_Key.to_list()\n",
    "\n",
    "for key_i in Sample_Key:\n",
    "\n",
    "    df_ABC_key = df_ABC[df_ABC['Ref_Sample_Key'] == key_i]\n",
    "    if df_ABC_key['distance_subduction'].all() == 'points_older_than_polygon':\n",
    "        df_ABC.loc[df_ABC['Ref_Sample_Key'] == key_i,'distance_Sengor_Natalin_rifts'] = 'points_older_than_polygon'\n",
    "    else:\n",
    "        reconstruction_time = float(np.round(df_ABC_key['Est. Depos. Age (Ma)']))\n",
    "        rlo,rla,rd = gdfd.get_distances_for_dataframe_rifts(df_ABC_key, Rift2019, rifts, reconstruction_time)\n",
    "        #distance.append(rd)\n",
    "        df_ABC.loc[df_ABC['Ref_Sample_Key'] == key_i,'distance_Sengor_Natalin_rifts'] = rd\n",
    "\n",
    "for key_i in Sample_Key:\n",
    "    df_ABC_key = df_ABC[df_ABC['Ref_Sample_Key'] == key_i]\n",
    "    if df_ABC_key['distance_subduction'].all() == 'points_older_than_polygon':\n",
    "        df_ABC.loc[df_ABC['Ref_Sample_Key'] == key_i,'distance_passive_margin_rifts'] = 'points_older_than_polygon'\n",
    "    else:\n",
    "        reconstruction_time = float(np.round(df_ABC_key['Est. Depos. Age (Ma)']))\n",
    "        rlo,rla,rd = gdfd.get_distances_for_dataframe_rifts(df_ABC_key, Rift2019, rifts2, reconstruction_time)\n",
    "        #distance.append(rd)\n",
    "        df_ABC.loc[df_ABC['Ref_Sample_Key'] == key_i,'distance_passive_margin_rifts'] = rd\n",
    "\n",
    "for key_i in Sample_Key:\n",
    "    df_ABC_key = df_ABC[df_ABC['Ref_Sample_Key'] == key_i]\n",
    "    if df_ABC_key['distance_subduction'].all() == 'points_older_than_polygon':\n",
    "        df_ABC.loc[df_ABC['Ref_Sample_Key'] == key_i,'distance_SN_PM_rifts'] = 'points_older_than_polygon'\n",
    "    else:\n",
    "        reconstruction_time = float(np.round(df_ABC_key['Est. Depos. Age (Ma)']))\n",
    "    rlo,rla,rd = gdfd.get_distances_for_dataframe_rifts(df_ABC_key, Rift2019, rifts3, reconstruction_time)\n",
    "    #distance.append(rd)\n",
    "    df_ABC.loc[df_ABC['Ref_Sample_Key'] == key_i,'distance_SN_PM_rifts'] = rd\n",
    "    \n",
    "for key_i in Sample_Key:\n",
    "    df_ABC_key = df_ABC[df_ABC['Ref_Sample_Key'] == key_i]\n",
    "    if df_ABC_key['distance_subduction'].all() == 'points_older_than_polygon':\n",
    "        df_ABC.loc[df_ABC['Ref_Sample_Key'] == key_i,'distance_active'] = 'points_older_than_polygon'\n",
    "    else:\n",
    "        reconstruction_time = float(np.round(df_ABC_key['Est. Depos. Age (Ma)']))\n",
    "        rlo,rla,rd = gdfd.get_distances_for_dataframe_rifts(df_ABC_key, Rift2019, rifts_active, reconstruction_time)\n",
    "        #distance.append(rd)\n",
    "        df_ABC.loc[df_ABC['Ref_Sample_Key'] == key_i,'distance_active'] = rd\n",
    "\n",
    "for key_i in Sample_Key:\n",
    "    df_ABC_key = df_ABC[df_ABC['Ref_Sample_Key'] == key_i]\n",
    "    if df_ABC_key['distance_subduction'].all() == 'points_older_than_polygon':\n",
    "        df_ABC.loc[df_ABC['Ref_Sample_Key'] == key_i,'distance_inactive'] = 'points_older_than_polygon'\n",
    "    else:\n",
    "        reconstruction_time = float(np.round(df_ABC_key['Est. Depos. Age (Ma)']))\n",
    "        rlo,rla,rd = gdfd.get_distances_for_dataframe_rifts(df_ABC_key, Rift2019, rifts_inactive, reconstruction_time)\n",
    "        #distance.append(rd)\n",
    "        df_ABC.loc[df_ABC['Ref_Sample_Key'] == key_i,'distance_inactive'] = rd\n",
    "\n",
    "    \n",
    "for key_i in Sample_Key:\n",
    "    df_ABC_key = df_ABC[df_ABC['Ref_Sample_Key'] == key_i]\n",
    "    if df_ABC_key['distance_subduction'].all() == 'points_older_than_polygon':\n",
    "        df_ABC.loc[df_ABC['Ref_Sample_Key'] == key_i,'distance_active_passive_margin'] = 'points_older_than_polygon'\n",
    "    else:\n",
    "        reconstruction_time = float(np.round(df_ABC_key['Est. Depos. Age (Ma)']))\n",
    "        rlo,rla,rd = gdfd.get_distances_for_dataframe_rifts(df_ABC_key, Rift2019, rifts_active_pm, reconstruction_time)\n",
    "        #distance.append(rd)\n",
    "        df_ABC.loc[df_ABC['Ref_Sample_Key'] == key_i,'distance_active_passive_margin'] = rd\n",
    "    \n"
   ]
  },
  {
   "cell_type": "code",
   "execution_count": null,
   "metadata": {},
   "outputs": [],
   "source": []
  },
  {
   "cell_type": "code",
   "execution_count": 8,
   "metadata": {},
   "outputs": [],
   "source": [
    "df_Data_detrital = pd.read_excel('data/DZDB3.xlsx',sheet_name=\"UPb_Data\")\n",
    "df_Ref_detrital = pd.read_excel('data/DZDB3.xlsx',sheet_name=\"References\")"
   ]
  },
  {
   "cell_type": "code",
   "execution_count": 9,
   "metadata": {},
   "outputs": [
    {
     "data": {
      "text/plain": [
       "B    2400\n",
       "A    2015\n",
       "C    1985\n",
       "Name: type, dtype: int64"
      ]
     },
     "execution_count": 9,
     "metadata": {},
     "output_type": "execute_result"
    }
   ],
   "source": [
    "df_ABC['type'].value_counts()"
   ]
  },
  {
   "cell_type": "code",
   "execution_count": 10,
   "metadata": {},
   "outputs": [],
   "source": [
    "with pd.ExcelWriter(r\"data/DZDB3.xlsx\") as writer:\n",
    "    df_Ref_detrital.to_excel(writer,sheet_name='References',index = False)\n",
    "    df_ABC.to_excel(writer,sheet_name='Samples',index = False)\n",
    "    df_Data_detrital.to_excel(writer,sheet_name='UPb_Data',index = False)"
   ]
  },
  {
   "cell_type": "code",
   "execution_count": null,
   "metadata": {},
   "outputs": [],
   "source": []
  },
  {
   "cell_type": "markdown",
   "metadata": {},
   "source": [
    "# delete the point order than the polygon in Y2019 from DZDB3, and save the output as DZDB4"
   ]
  },
  {
   "cell_type": "code",
   "execution_count": 8,
   "metadata": {},
   "outputs": [
    {
     "name": "stdout",
     "output_type": "stream",
     "text": [
      "6400\n",
      "0\n",
      "6066\n"
     ]
    }
   ],
   "source": [
    "df_ABC = pd.read_excel('data/DZDB3.xlsx',sheet_name=\"Samples\")\n",
    "\n",
    "print(df_ABC.shape[0])\n",
    "\n",
    "Sample_distance = df_ABC['distance_subduction'].to_list()\n",
    "print(Sample_distance.count(-1.))\n",
    "\n",
    "df_ABC1 = df_ABC[df_ABC['distance_subduction'] != 'points_older_than_polygon']\n",
    "\n",
    "print(df_ABC1.shape[0])\n",
    "\n",
    "#outputpath='data/distance_y2019.csv'\n",
    "#df_ABC.to_csv(outputpath, sep=',', index = False, header = True)"
   ]
  },
  {
   "cell_type": "code",
   "execution_count": 9,
   "metadata": {},
   "outputs": [
    {
     "name": "stdout",
     "output_type": "stream",
     "text": [
      "699115\n"
     ]
    }
   ],
   "source": [
    "df_ABC1_fno = df_ABC1[['Ref_Sample_Key']]\n",
    "df_Data_detrital1 = pd.merge(df_ABC1_fno,df_Data_detrital,on='Ref_Sample_Key')\n",
    "print(len(df_Data_detrital1))\n",
    "\n",
    "df_ABC1_fno2 = df_ABC1[['Ref_Number']]\n",
    "df_Ref_detrital1 = pd.merge(df_ABC1_fno2,df_Ref_detrital,on='Ref_Number')\n",
    "df_Ref_detrital1 = df_Ref_detrital.drop_duplicates(subset=['Ref_Number'], keep='first')"
   ]
  },
  {
   "cell_type": "code",
   "execution_count": 10,
   "metadata": {},
   "outputs": [
    {
     "name": "stdout",
     "output_type": "stream",
     "text": [
      "6066\n",
      "735799\n",
      "699115\n"
     ]
    }
   ],
   "source": [
    "print(len(df_ABC1_fno))\n",
    "print(len(df_Data_detrital))\n",
    "print(len(df_Data_detrital1))"
   ]
  },
  {
   "cell_type": "code",
   "execution_count": 11,
   "metadata": {},
   "outputs": [],
   "source": [
    "with pd.ExcelWriter(r\"data/DZDB4.xlsx\") as writer:\n",
    "    df_Ref_detrital1.to_excel(writer,sheet_name='References',index = False)\n",
    "    df_ABC1.to_excel(writer,sheet_name='Samples',index = False)\n",
    "    df_Data_detrital1.to_excel(writer,sheet_name='UPb_Data',index = False)"
   ]
  },
  {
   "cell_type": "code",
   "execution_count": 12,
   "metadata": {},
   "outputs": [
    {
     "data": {
      "text/plain": [
       "1"
      ]
     },
     "execution_count": 12,
     "metadata": {},
     "output_type": "execute_result"
    }
   ],
   "source": [
    "df_ABC2 = df_ABC1[df_ABC1['distance_subduction_m2016'] == 'points_older_than_polygon_m2016']\n",
    "len(df_ABC2)"
   ]
  },
  {
   "cell_type": "code",
   "execution_count": null,
   "metadata": {},
   "outputs": [],
   "source": []
  },
  {
   "cell_type": "code",
   "execution_count": null,
   "metadata": {},
   "outputs": [],
   "source": []
  },
  {
   "cell_type": "markdown",
   "metadata": {},
   "source": [
    "# delete the point order than the polygon in M2016 from DZDB4, and save the output as DZDB5, only one point has been get rid from DZDB4"
   ]
  },
  {
   "cell_type": "code",
   "execution_count": 13,
   "metadata": {},
   "outputs": [
    {
     "name": "stdout",
     "output_type": "stream",
     "text": [
      "6066\n",
      "0\n",
      "6065\n"
     ]
    }
   ],
   "source": [
    "df_ABC = pd.read_excel('data/DZDB4.xlsx',sheet_name=\"Samples\")\n",
    "\n",
    "print(df_ABC.shape[0])\n",
    "\n",
    "Sample_distance = df_ABC['distance_subduction_m2016'].to_list()\n",
    "print(Sample_distance.count(-1.))\n",
    "\n",
    "df_ABC1 = df_ABC[df_ABC['distance_subduction_m2016'] != 'points_older_than_polygon_m2016']\n",
    "\n",
    "print(df_ABC1.shape[0])\n",
    "\n",
    "#outputpath='data/distance_y2019.csv'\n",
    "#df_ABC.to_csv(outputpath, sep=',', index = False, header = True)"
   ]
  },
  {
   "cell_type": "code",
   "execution_count": 14,
   "metadata": {},
   "outputs": [
    {
     "name": "stdout",
     "output_type": "stream",
     "text": [
      "699041\n"
     ]
    }
   ],
   "source": [
    "df_ABC1_fno = df_ABC1[['Ref_Sample_Key']]\n",
    "df_Data_detrital1 = pd.merge(df_ABC1_fno,df_Data_detrital,on='Ref_Sample_Key')\n",
    "print(len(df_Data_detrital1))\n",
    "\n",
    "df_ABC1_fno2 = df_ABC1[['Ref_Number']]\n",
    "df_Ref_detrital1 = pd.merge(df_ABC1_fno2,df_Ref_detrital,on='Ref_Number')\n",
    "df_Ref_detrital1 = df_Ref_detrital.drop_duplicates(subset=['Ref_Number'], keep='first')"
   ]
  },
  {
   "cell_type": "code",
   "execution_count": 15,
   "metadata": {},
   "outputs": [
    {
     "name": "stdout",
     "output_type": "stream",
     "text": [
      "6065\n",
      "735799\n",
      "699041\n"
     ]
    }
   ],
   "source": [
    "print(len(df_ABC1_fno))\n",
    "print(len(df_Data_detrital))\n",
    "print(len(df_Data_detrital1))"
   ]
  },
  {
   "cell_type": "code",
   "execution_count": 16,
   "metadata": {},
   "outputs": [],
   "source": [
    "with pd.ExcelWriter(r\"data/DZDB5.xlsx\") as writer:\n",
    "    df_Ref_detrital1.to_excel(writer,sheet_name='References',index = False)\n",
    "    df_ABC1.to_excel(writer,sheet_name='Samples',index = False)\n",
    "    df_Data_detrital1.to_excel(writer,sheet_name='UPb_Data',index = False)"
   ]
  },
  {
   "cell_type": "code",
   "execution_count": null,
   "metadata": {},
   "outputs": [],
   "source": []
  }
 ],
 "metadata": {
  "kernelspec": {
   "display_name": "Python [conda env:pygmt]",
   "language": "python",
   "name": "conda-env-pygmt-py"
  },
  "language_info": {
   "codemirror_mode": {
    "name": "ipython",
    "version": 3
   },
   "file_extension": ".py",
   "mimetype": "text/x-python",
   "name": "python",
   "nbconvert_exporter": "python",
   "pygments_lexer": "ipython3",
   "version": "3.8.13"
  }
 },
 "nbformat": 4,
 "nbformat_minor": 4
}
