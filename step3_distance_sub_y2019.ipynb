{
 "cells": [
  {
   "cell_type": "code",
   "execution_count": 1,
   "metadata": {},
   "outputs": [
    {
     "name": "stderr",
     "output_type": "stream",
     "text": [
      "pygmt-session [WARNING]: Representation of font type not recognized. Using default.\n",
      "pygmt-session [WARNING]: Representation of font type not recognized. Using default.\n",
      "pygmt-session [WARNING]: Representation of font type not recognized. Using default.\n",
      "begin [WARNING]: Representation of font type not recognized. Using default.\n",
      "begin [WARNING]: Representation of font type not recognized. Using default.\n",
      "begin [WARNING]: Representation of font type not recognized. Using default.\n"
     ]
    }
   ],
   "source": [
    "import pandas as pd\n",
    "import numpy as np\n",
    "from pandas import Series,DataFrame\n",
    "\n",
    "import geopandas as gpd\n",
    "import pygplates\n",
    "from gprm import ReconstructionModel\n",
    "import get_distances_for_dataframe as gdfd\n"
   ]
  },
  {
   "cell_type": "code",
   "execution_count": 2,
   "metadata": {},
   "outputs": [
    {
     "data": {
      "text/plain": [
       "Name: Young++2019\n",
       "Rotation Files:\n",
       "   - Global_410-250Ma_Young_et_al.rot\n",
       "   - Global_250-0Ma_Young_et_al.rot\n",
       "Static Polygon Files:\n",
       "   - Global_GPlates_PresentDay_StaticPlatePolygons_Young_et_al.shp\n",
       "Coastlines Files:\n",
       "   - Global_coastlines_Young_et_al_low_res.shp\n",
       "Continent Polygon Files:\n",
       "   - PresentDay_ContinentalPolygons_Young_et_al.shp\n",
       "Dynamic Polygon Files:\n",
       "   - Global_Mesozoic-Cenozoic_plate_boundaries_Young_et_al.gpml\n",
       "   - Global_Paleozoic_plate_boundaries_Young_et_al.gpml\n",
       "   - TopologyBuildingBlocks_Young_et_al.gpml"
      ]
     },
     "execution_count": 2,
     "metadata": {},
     "output_type": "execute_result"
    }
   ],
   "source": [
    "from gprm.datasets import Reconstructions\n",
    "Y2019 = Reconstructions.fetch_Young2019()\n",
    "Y2019"
   ]
  },
  {
   "cell_type": "code",
   "execution_count": 3,
   "metadata": {},
   "outputs": [],
   "source": [
    "# This cell already output a file, so we don't need run it if it doesn't change.\n",
    "# If you want change it, only need convert makedown into code, then it can run normally. \n",
    "\n",
    "anchor_plate_id = 0\n",
    "df_ABC = pd.read_excel('data/DZDB3.xlsx',sheet_name=\"Samples\")\n",
    "df_ABC['FROMAGE'] = '0'\n",
    "df_ABC['TOAGE'] = '0'\n",
    "for i in range(len(df_ABC['FROMAGE'])):\n",
    "    df_ABC.loc[i,('FROMAGE')] = df_ABC.loc[i,('Est. Depos. Age (Ma)')] + 4.99\n",
    "    df_ABC.loc[i,('TOAGE')] = df_ABC.loc[i,('Est. Depos. Age (Ma)')] - 5.\n",
    "    \n",
    "Sample_Key = df_ABC['Ref_Sample_Key']\n",
    "Sample_Key = Sample_Key.to_list()\n",
    "\n",
    "distance_subduction = []\n",
    "for key_i in Sample_Key:\n",
    "    df_ABC_key = df_ABC[df_ABC['Ref_Sample_Key'] == key_i]\n",
    "    reconstruction_time = float(np.round(df_ABC_key['Est. Depos. Age (Ma)']))\n",
    "    rlo,rla,rd = gdfd.get_distances_for_dataframe(df_ABC_key, Y2019, reconstruction_time,anchor_plate_id=anchor_plate_id, remove_points_older_than_polygon=True)\n",
    "\n",
    "    if len(rd)>0.:\n",
    "        df_ABC.loc[df_ABC['Ref_Sample_Key'] == key_i,'distance_subduction'] = rd\n",
    "    else:\n",
    "        df_ABC.loc[df_ABC['Ref_Sample_Key'] == key_i,'distance_subduction'] = 'points_older_than_polygon'\n",
    "    \n"
   ]
  },
  {
   "cell_type": "code",
   "execution_count": 4,
   "metadata": {},
   "outputs": [],
   "source": [
    "df_Sample_60 = df_ABC\n",
    "df_Data_detrital = pd.read_excel('data/DZDB3.xlsx',sheet_name=\"UPb_Data\")\n",
    "df_Ref_detrital = pd.read_excel('data/DZDB3.xlsx',sheet_name=\"References\")\n"
   ]
  },
  {
   "cell_type": "code",
   "execution_count": 5,
   "metadata": {},
   "outputs": [],
   "source": [
    "with pd.ExcelWriter(r\"data/DZDB3.xlsx\") as writer:\n",
    "    df_Ref_detrital.to_excel(writer,sheet_name='References',index = False)\n",
    "    df_Sample_60.to_excel(writer,sheet_name='Samples',index = False)\n",
    "    df_Data_detrital.to_excel(writer,sheet_name='UPb_Data',index = False)"
   ]
  },
  {
   "cell_type": "code",
   "execution_count": 7,
   "metadata": {},
   "outputs": [
    {
     "data": {
      "text/plain": [
       "B    2400\n",
       "A    2015\n",
       "C    1985\n",
       "Name: type, dtype: int64"
      ]
     },
     "execution_count": 7,
     "metadata": {},
     "output_type": "execute_result"
    }
   ],
   "source": [
    "len(df_Sample_60)\n",
    "df_Sample_60['type'].value_counts()\n"
   ]
  },
  {
   "cell_type": "code",
   "execution_count": null,
   "metadata": {},
   "outputs": [],
   "source": []
  }
 ],
 "metadata": {
  "kernelspec": {
   "display_name": "Python [conda env:pygmt]",
   "language": "python",
   "name": "conda-env-pygmt-py"
  },
  "language_info": {
   "codemirror_mode": {
    "name": "ipython",
    "version": 3
   },
   "file_extension": ".py",
   "mimetype": "text/x-python",
   "name": "python",
   "nbconvert_exporter": "python",
   "pygments_lexer": "ipython3",
   "version": "3.8.13"
  }
 },
 "nbformat": 4,
 "nbformat_minor": 4
}
