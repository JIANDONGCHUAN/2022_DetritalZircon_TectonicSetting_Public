{
 "cells": [
  {
   "cell_type": "code",
   "execution_count": 1,
   "metadata": {},
   "outputs": [],
   "source": [
    "import sys\n",
    "\n",
    "import pandas as pd\n",
    "import numpy as np\n",
    "import matplotlib.pyplot as plt\n",
    "from pandas import Series,DataFrame\n",
    "from numpy import nan as NaN\n",
    "\n",
    "%load_ext autoreload\n",
    "%autoreload 2"
   ]
  },
  {
   "cell_type": "code",
   "execution_count": 2,
   "metadata": {},
   "outputs": [],
   "source": [
    "df_Sample = pd.read_excel('data/DZDB2.xlsx',sheet_name=\"Samples\")\n",
    "df_Data_detrital = pd.read_excel('data/DZDB2.xlsx',sheet_name=\"UPb_Data\")"
   ]
  },
  {
   "cell_type": "code",
   "execution_count": 4,
   "metadata": {},
   "outputs": [
    {
     "data": {
      "text/plain": [
       "Index(['Sample_No.', 'Ref_Number', 'Ref_Sample_Key',\n",
       "       'Ref No. In_Source_Database', 'Sample No. In_Source_Database',\n",
       "       'Source_Database_x', 'Published Sample_ID', 'Country/State', 'Region',\n",
       "       'Continent', 'Major Geographic-Geologic Description',\n",
       "       'Minor Geologic-Geographic Unit', 'Locality', 'Latitude', 'Longitude',\n",
       "       'Max. Depos. Age (Ma)', 'Est. Depos. Age (Ma)', 'Min. Depos. Age (Ma)',\n",
       "       'Mineral', 'Mass Spectrometer', 'Spectrometer Location', 'Institution',\n",
       "       'Spectrometer Model', 'Class-1 Rock Type', 'Class-2 Rock Type',\n",
       "       'Class-3 Rock Type', 'Felsic/Mafic', 'Max Latitude', 'Min Latitude',\n",
       "       'Max Longitude', 'Min Longitude', 'U-Pb Record Count',\n",
       "       'U-Pb Record Count Standard_Model_Age', 'Grain_No.', 'Sample&Grain',\n",
       "       'Core/Rim', 'Spot diam. (μm)', 'Standard_Model_Age',\n",
       "       'Standard_Model_Age 2σ uncert.', 'Standard_Model_Age 1σ uncert.',\n",
       "       'Published 206Pb/238U age (Ma)', 'Published 206Pb/238U 2σ uncert.',\n",
       "       'Published 207Pb/235U age (Ma)', 'Published 207Pb/235U 2σ uncert.',\n",
       "       'Published 207Pb/206Pb age (Ma)', 'Published 207Pb/206Pb 2σ uncert.',\n",
       "       'Source_Database_y'],\n",
       "      dtype='object')"
      ]
     },
     "execution_count": 4,
     "metadata": {},
     "output_type": "execute_result"
    }
   ],
   "source": [
    "SedimentaryZircon = pd.merge(df_Sample,df_Data_detrital,on='Ref_Sample_Key')\n",
    "SedimentaryZircon.columns"
   ]
  },
  {
   "cell_type": "code",
   "execution_count": 5,
   "metadata": {},
   "outputs": [],
   "source": [
    "df_60 = df_Sample\n",
    "SedimentaryZircon = SedimentaryZircon\n",
    "\n",
    "Sample_ID = df_60['Ref_Sample_Key']\n",
    "Sample_ID = Sample_ID.to_list()\n",
    "\n",
    "types=[]\n",
    "colours=[]\n",
    "for i in Sample_ID:\n",
    "    Sample_age = SedimentaryZircon[SedimentaryZircon['Ref_Sample_Key'] == i]\n",
    "    age_list = Sample_age['Standard_Model_Age']\n",
    "    CA_DA = age_list - Sample_age['Est. Depos. Age (Ma)']\n",
    "    CA_DA.dropna(inplace=True)\n",
    "    CA_DA_Order = CA_DA.sort_values(ascending = True)\n",
    "    \n",
    "    \n",
    "    #if CA_DA_Order.iloc[int(len(CA_DA)*0.05)] >= 150:\n",
    "    if np.interp(5,np.linspace(100./len(CA_DA_Order),100,len(CA_DA_Order)),CA_DA_Order) >= 150:\n",
    "        types.append('C')\n",
    "        colours.append('g')\n",
    "    #elif CA_DA_Order.iloc[int(len(CA_DA)*0.3)] >= 100:\n",
    "    elif np.interp(30,np.linspace(100./len(CA_DA_Order),100,len(CA_DA_Order)),CA_DA_Order) >= 100:\n",
    "        types.append('B')\n",
    "        colours.append('b')\n",
    "    else:\n",
    "        types.append('A')\n",
    "        colours.append('r')\n",
    "        \n",
    "df_60['type']=types\n",
    "df_60['colour']=colours\n",
    "\n"
   ]
  },
  {
   "cell_type": "code",
   "execution_count": 6,
   "metadata": {},
   "outputs": [
    {
     "data": {
      "text/plain": [
       "6400"
      ]
     },
     "execution_count": 6,
     "metadata": {},
     "output_type": "execute_result"
    }
   ],
   "source": [
    "len(df_60)"
   ]
  },
  {
   "cell_type": "code",
   "execution_count": 10,
   "metadata": {},
   "outputs": [],
   "source": [
    "df_Sample_60 = df_60\n",
    "df_Ref_detrital = pd.read_excel('data/DZDB2.xlsx',sheet_name=\"References\")\n",
    "\n",
    "with pd.ExcelWriter(r\"data/DZDB3.xlsx\") as writer:\n",
    "    df_Ref_detrital.to_excel(writer,sheet_name='References',index = False)\n",
    "    df_Sample_60.to_excel(writer,sheet_name='Samples',index = False)\n",
    "    df_Data_detrital.to_excel(writer,sheet_name='UPb_Data',index = False)"
   ]
  },
  {
   "cell_type": "code",
   "execution_count": null,
   "metadata": {},
   "outputs": [],
   "source": []
  },
  {
   "cell_type": "code",
   "execution_count": null,
   "metadata": {},
   "outputs": [],
   "source": [
    "df_Sample_60 = pd.read_excel('data/DZDB3.xlsx',sheet_name=\"Samples\")"
   ]
  },
  {
   "cell_type": "code",
   "execution_count": 9,
   "metadata": {},
   "outputs": [
    {
     "name": "stdout",
     "output_type": "stream",
     "text": [
      "2015\n",
      "2400\n",
      "1985\n"
     ]
    },
    {
     "data": {
      "image/png": "[encoded data removed]",
      "text/plain": [
       "<Figure size 1152x288 with 4 Axes>"
      ]
     },
     "metadata": {
      "needs_background": "light"
     },
     "output_type": "display_data"
    }
   ],
   "source": [
    "# show the distribution of samples in time\n",
    "A_dataframe = df_Sample_60[df_Sample_60['type']=='A']\n",
    "B_dataframe = df_Sample_60[df_Sample_60['type']=='B']\n",
    "C_dataframe = df_Sample_60[df_Sample_60['type']=='C']\n",
    "print(len(A_dataframe))\n",
    "print(len(B_dataframe))\n",
    "print(len(C_dataframe))\n",
    "\n",
    "fig, ax = plt.subplots(1, 4, figsize = (16,4))\n",
    "dataframe=[df_Sample_60,A_dataframe,B_dataframe,C_dataframe]\n",
    "color = ['grey','r','b','g']\n",
    "labels=['All-Sample','Category A','Category B','Category C']\n",
    "for i in range(4):\n",
    "    ax[i].hist(dataframe[i]['Est. Depos. Age (Ma)'], bins = range(0,420,10), histtype='bar', color = color[i], edgecolor='white', label=labels[i],stacked=True)\n",
    "\n",
    "    ax[i].legend(loc = 'best')\n",
    "    ax[i].set_xlabel('DA (Ma)')\n",
    "    ax[i].set_ylabel('Frequency')\n",
    "    #plt.xticks([])\n",
    "    ax[i].set_xticks(range(0,500,50))\n",
    "    #ax[i].set_yticks(range(0,80,20))\n",
    "    ax[i].set_xlim(0,410)\n",
    "\n",
    "plt.tight_layout()\n",
    "plt.show()"
   ]
  },
  {
   "cell_type": "code",
   "execution_count": null,
   "metadata": {},
   "outputs": [],
   "source": []
  },
  {
   "cell_type": "code",
   "execution_count": null,
   "metadata": {},
   "outputs": [],
   "source": []
  },
  {
   "cell_type": "code",
   "execution_count": null,
   "metadata": {},
   "outputs": [],
   "source": []
  },
  {
   "cell_type": "code",
   "execution_count": null,
   "metadata": {},
   "outputs": [],
   "source": []
  }
 ],
 "metadata": {
  "kernelspec": {
   "display_name": "pygmt",
   "language": "python",
   "name": "pygmt"
  },
  "language_info": {
   "codemirror_mode": {
    "name": "ipython",
    "version": 3
   },
   "file_extension": ".py",
   "mimetype": "text/x-python",
   "name": "python",
   "nbconvert_exporter": "python",
   "pygments_lexer": "ipython3",
   "version": "3.8.13"
  }
 },
 "nbformat": 4,
 "nbformat_minor": 4
}
