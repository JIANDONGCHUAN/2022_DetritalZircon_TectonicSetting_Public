{
 "cells": [
  {
   "cell_type": "code",
   "execution_count": 39,
   "id": "a826b329",
   "metadata": {
    "tags": []
   },
   "outputs": [],
   "source": [
    "import pandas as pd\n",
    "import numpy as np\n",
    "import matplotlib.pyplot as plt\n",
    "from pandas import Series,DataFrame\n",
    "from numpy import nan as NaN\n"
   ]
  },
  {
   "cell_type": "markdown",
   "id": "5d302e09",
   "metadata": {},
   "source": [
    "# the following is the code that write those two databases, separately"
   ]
  },
  {
   "cell_type": "code",
   "execution_count": 2,
   "id": "072ae163",
   "metadata": {},
   "outputs": [
    {
     "name": "stderr",
     "output_type": "stream",
     "text": [
      "C:\\Users\\84746\\anaconda3\\envs\\pygmt\\lib\\site-packages\\openpyxl\\worksheet\\_reader.py:312: UserWarning: Data Validation extension is not supported and will be removed\n",
      "  warn(msg)\n"
     ]
    }
   ],
   "source": [
    "#this step will cost minuites to download database from internet and write them into this notebook\n",
    "import public\n",
    "df_Ref_2019, df_Sample_2019, df_Data_2019 = public.fetch_Putze2019()\n",
    "df_Ref_2021, df_Sample_2021, df_Data_2021 = public.fetch_Putze2021_mmc1()"
   ]
  },
  {
   "cell_type": "code",
   "execution_count": 3,
   "id": "ebf5fd1d",
   "metadata": {},
   "outputs": [
    {
     "name": "stdout",
     "output_type": "stream",
     "text": [
      "609566\n",
      "604553\n"
     ]
    }
   ],
   "source": [
    "print(len(df_Data_2019))\n",
    "print(len(df_Data_2021))"
   ]
  },
  {
   "cell_type": "code",
   "execution_count": null,
   "id": "7abc478c-03be-49ae-adac-965c1f83176d",
   "metadata": {},
   "outputs": [],
   "source": []
  },
  {
   "cell_type": "code",
   "execution_count": 4,
   "id": "5e3d8227-b561-4997-90e8-ffc9bcdcd9a2",
   "metadata": {},
   "outputs": [
    {
     "name": "stdout",
     "output_type": "stream",
     "text": [
      "7788\n",
      "7788\n"
     ]
    }
   ],
   "source": [
    "df_Sample_2019_Key = df_Sample_2019.rename(columns={'Sample-Ref':'Ref_Sample_Key'})\n",
    "df_Data_2019_Key = df_Data_2019.rename(columns={'Sample-Ref ID':'Ref_Sample_Key'})\n",
    "\n",
    "df_Data_2019_ID = df_Data_2019_Key.drop_duplicates(subset=['Ref_Sample_Key'], keep='first')\n",
    "print(len(df_Data_2019_ID))\n",
    "df_Data_2019_ID = df_Data_2019_ID[['Ref_Sample_Key']]\n",
    "df_detrital_2019 = pd.merge(df_Data_2019_ID,df_Sample_2019_Key,on='Ref_Sample_Key')\n",
    "print(len(df_detrital_2019))"
   ]
  },
  {
   "cell_type": "code",
   "execution_count": 5,
   "id": "5687aac4-833c-42dd-a663-13f3234379d0",
   "metadata": {},
   "outputs": [
    {
     "data": {
      "text/plain": [
       "detrital    7788\n",
       "Name: Class-1 Rock Type, dtype: int64"
      ]
     },
     "execution_count": 5,
     "metadata": {},
     "output_type": "execute_result"
    }
   ],
   "source": [
    "df_detrital_2019 = df_detrital_2019[df_detrital_2019['Mineral'] == 'zircon']\n",
    "df_detrital_2019= df_detrital_2019[df_detrital_2019['Class-1 Rock Type'] == 'detrital']\n",
    "df_detrital_2019['Class-1 Rock Type'].value_counts()"
   ]
  },
  {
   "cell_type": "code",
   "execution_count": 6,
   "id": "5df3085b-2a5c-4f0f-8850-d797f5195de7",
   "metadata": {},
   "outputs": [
    {
     "name": "stdout",
     "output_type": "stream",
     "text": [
      "7788\n",
      "7778\n"
     ]
    }
   ],
   "source": [
    "print(len(df_detrital_2019))\n",
    "df_detrital_2019_dropna = df_detrital_2019.dropna(subset=['Est. Depos. Age (Ma)'])\n",
    "print(len(df_detrital_2019_dropna))"
   ]
  },
  {
   "cell_type": "code",
   "execution_count": 7,
   "id": "3ba41d1d-fdd7-436c-961f-7a991ce60637",
   "metadata": {},
   "outputs": [
    {
     "name": "stdout",
     "output_type": "stream",
     "text": [
      "609219\n",
      "7778\n",
      "7778\n"
     ]
    }
   ],
   "source": [
    "df_Data_2019_detrital = pd.merge(df_detrital_2019_dropna,df_Data_2019_Key,on='Ref_Sample_Key')\n",
    "print(len(df_Data_2019_detrital))\n",
    "#add a new column named 'count' in the sample sheet\n",
    "count = df_Data_2019_detrital['Ref_Sample_Key'].value_counts()\n",
    "data1 = {'Ref_Sample_Key':count.index, 'U-Pb Record Count':count}\n",
    "df1 = pd.DataFrame(data1)\n",
    "print(len(df1))\n",
    "df_detrital_2019_count = pd.merge(df_detrital_2019_dropna,df1,on='Ref_Sample_Key')\n",
    "# this step give up 328 samples without data of each zircon grain\n",
    "\n",
    "print(len(df_detrital_2019_count))"
   ]
  },
  {
   "cell_type": "code",
   "execution_count": 8,
   "id": "88927da9-fb35-4563-ab2f-69186efe47d2",
   "metadata": {},
   "outputs": [
    {
     "name": "stdout",
     "output_type": "stream",
     "text": [
      "6804\n",
      "6804\n",
      "974\n",
      "974\n",
      "7778\n"
     ]
    }
   ],
   "source": [
    "# the aim of the follow 7 lines is making sure that the EDA of modern_sediment wounldn't be None\n",
    "df_sed = df_detrital_2019_count[df_detrital_2019_count['Class-2 Rock Type'] != 'modern_sediment' ]\n",
    "print(len(df_sed))\n",
    "\n",
    "#there are 10 samples (from 3 papers) don't have EDA, but we didn't delete them since they will be delete when we filter the data between 0-410 Ma\n",
    "#df_sed.dropna(subset=['Est. Depos. Age (Ma)'],inplace=True)\n",
    "\n",
    "# this step give up 10 samples without Estmitate Depositional Age\n",
    "print(len(df_sed))\n",
    "df_mod = df_detrital_2019_count[df_detrital_2019_count['Class-2 Rock Type'] == 'modern_sediment' ]\n",
    "df_mod = df_mod.copy()\n",
    "\n",
    "print(len(df_mod))\n",
    "df_mod['Est. Depos. Age (Ma)'].fillna(0.0, inplace=True)\n",
    "print(len(df_mod))\n",
    "\n",
    "df_s2019 = df_sed.append(df_mod)\n",
    "df_s2019 = df_s2019.sort_index()\n",
    "\n",
    "df_detrital_2019_count_da = df_s2019\n",
    "print(len(df_detrital_2019_count_da))"
   ]
  },
  {
   "cell_type": "code",
   "execution_count": 9,
   "id": "6ee18f0b-f217-4e23-ae50-2e7d5d889b60",
   "metadata": {},
   "outputs": [
    {
     "data": {
      "text/plain": [
       "1341"
      ]
     },
     "execution_count": 9,
     "metadata": {},
     "output_type": "execute_result"
    }
   ],
   "source": [
    "df_detrital_2019_refno = df_detrital_2019_count_da[['Ref No.']]\n",
    "df_Ref_2019_detrital = pd.merge(df_detrital_2019_refno,df_Ref_2019,on='Ref No.')\n",
    "df_Ref_2019_detrital = df_Ref_2019_detrital.drop_duplicates(subset=['Ref No.','Title','Web Link','Data_Link'], keep='first')\n",
    "df_Ref_2019_detrital = df_Ref_2019_detrital.rename(columns={'Ref No.':'Ref No. In Source Database'})\n",
    "len(df_Ref_2019_detrital)"
   ]
  },
  {
   "cell_type": "code",
   "execution_count": 10,
   "id": "5566a287-1e5f-4e6c-8e30-7b5a84eb867d",
   "metadata": {},
   "outputs": [
    {
     "name": "stdout",
     "output_type": "stream",
     "text": [
      "7778\n",
      "7778\n",
      "7778\n",
      "7778\n"
     ]
    }
   ],
   "source": [
    "df_Ref_2019_detrital.index.values\n",
    "df_Ref_2019_detrital.reset_index(drop=True, inplace=True)\n",
    "key1 = df_Ref_2019_detrital.index.values\n",
    "df_Ref_2019_detrital.insert(0,'Ref Number',key1)\n",
    "Ref_No = df_Ref_2019_detrital[['Ref Number','Ref No. In Source Database']]\n",
    "\n",
    "print(len(df_detrital_2019_count_da))\n",
    "df_detrital_2019_count_da = df_detrital_2019_count_da.rename(columns={'Ref No.':'Ref No. In Source Database'})\n",
    "df_detrital_2019_count_da['Source Database'] = 'Puetz et al,2019'\n",
    "print(len(df_detrital_2019_count_da))\n",
    "\n",
    "df_detrital_2019_count_da_ref = pd.merge(df_detrital_2019_count_da,Ref_No,on='Ref No. In Source Database')\n",
    "print(len(df_detrital_2019_count_da_ref))\n",
    "\n",
    "cols = list(df_detrital_2019_count_da_ref)\n",
    "cols.insert(0, cols.pop(cols.index('Ref Number')))\n",
    "df_detrital_2019_count_da_ref = df_detrital_2019_count_da_ref.loc[:, cols]\n",
    "\n",
    "print(len(df_detrital_2019_count_da_ref))"
   ]
  },
  {
   "cell_type": "code",
   "execution_count": 11,
   "id": "13e7e956-909e-42b2-a3ea-e916a380a217",
   "metadata": {},
   "outputs": [
    {
     "name": "stdout",
     "output_type": "stream",
     "text": [
      "siliciclastic       4685\n",
      "meta_sedimentary    2032\n",
      "modern_sediment      974\n",
      "glacial               46\n",
      "misc_sediments        25\n",
      "carbonate             16\n",
      "Name: Class-2 Rock Type, dtype: int64\n"
     ]
    },
    {
     "data": {
      "text/plain": [
       "(0.0, 200.0)"
      ]
     },
     "execution_count": 11,
     "metadata": {},
     "output_type": "execute_result"
    },
    {
     "data": {
      "image/png": "[encoded data removed]",
      "text/plain": [
       "<Figure size 432x288 with 1 Axes>"
      ]
     },
     "metadata": {
      "needs_background": "light"
     },
     "output_type": "display_data"
    }
   ],
   "source": [
    "print(df_detrital_2019_count_da_ref['Class-2 Rock Type'].value_counts())\n",
    "df_detrital_2019_count_da_ref['U-Pb Record Count'].hist(bins = 50)\n",
    "plt.xlim(0,200)"
   ]
  },
  {
   "cell_type": "code",
   "execution_count": 29,
   "id": "65eec71d-4c26-4c2c-8e27-fdc5bfccdcb6",
   "metadata": {},
   "outputs": [
    {
     "data": {
      "text/plain": [
       "1341"
      ]
     },
     "execution_count": 29,
     "metadata": {},
     "output_type": "execute_result"
    }
   ],
   "source": [
    "a = df_Ref_2019_detrital.index.to_list()\n",
    "len(a)"
   ]
  },
  {
   "cell_type": "code",
   "execution_count": null,
   "id": "79059c85-aa6e-40d2-add8-f6c0228641b7",
   "metadata": {},
   "outputs": [],
   "source": []
  },
  {
   "cell_type": "code",
   "execution_count": 14,
   "id": "19325117",
   "metadata": {},
   "outputs": [
    {
     "name": "stdout",
     "output_type": "stream",
     "text": [
      "6427\n",
      "6427\n"
     ]
    }
   ],
   "source": [
    "df_Sample_2021_Key = df_Sample_2021.rename(columns={'Ref-Sample Key':'Ref_Sample_Key'})\n",
    "df_Data_2021_Key = df_Data_2021.rename(columns={'Ref-Sample Key':'Ref_Sample_Key'})\n",
    "\n",
    "df_Data_2021_ID = df_Data_2021_Key.drop_duplicates(subset=['Ref_Sample_Key'], keep='first')\n",
    "print(len(df_Data_2021_ID))\n",
    "df_Data_2021_ID = df_Data_2021_ID[['Ref_Sample_Key']]\n",
    "df_detrital_2021 = pd.merge(df_Data_2021_ID,df_Sample_2021_Key,on='Ref_Sample_Key')\n",
    "print(len(df_detrital_2021))"
   ]
  },
  {
   "cell_type": "code",
   "execution_count": 15,
   "id": "b28aa373-efc6-455f-b05c-78c5c13c0897",
   "metadata": {},
   "outputs": [
    {
     "name": "stdout",
     "output_type": "stream",
     "text": [
      "1123\n"
     ]
    },
    {
     "data": {
      "text/plain": [
       "851"
      ]
     },
     "execution_count": 15,
     "metadata": {},
     "output_type": "execute_result"
    }
   ],
   "source": [
    "df_detrital_2021_refno = df_Sample_2021[['Ref No.']]\n",
    "print(len(df_Ref_2021))\n",
    "df_Ref_2021_detrital = pd.merge(df_detrital_2021_refno,df_Ref_2021,on='Ref No.')\n",
    "df_Ref_2021_detrital = df_Ref_2021_detrital.drop_duplicates(subset=['Ref No.','Title'], keep='first')\n",
    "len(df_Ref_2021_detrital)"
   ]
  },
  {
   "cell_type": "code",
   "execution_count": 16,
   "id": "2e12d0fd",
   "metadata": {},
   "outputs": [],
   "source": [
    "df_Ref_2021_detrital = df_Ref_2021_detrital.rename(columns={'Ref No.':'Ref No. In Source Database'})\n",
    "\n",
    "df_Ref_2021_detrital.reset_index(drop=True, inplace=True)\n",
    "key3 = range(1341, len(df_Ref_2021_detrital)+1341)\n",
    "# 1396 is the length of df_detrital_2019\n",
    "df_Ref_2021_detrital.insert(0,'Ref Number',key3)"
   ]
  },
  {
   "cell_type": "code",
   "execution_count": 17,
   "id": "5996405f",
   "metadata": {},
   "outputs": [],
   "source": [
    "Ref_No = df_Ref_2021_detrital[['Ref Number','Ref No. In Source Database']]\n",
    "df_detrital_2021 = df_detrital_2021.rename(columns={'Ref No.':'Ref No. In Source Database'})\n",
    "df_detrital_2021['Source Database'] = 'Puetz et al,2021'\n",
    "\n",
    "df_detrital_2021 = pd.merge(df_detrital_2021,Ref_No,on='Ref No. In Source Database')\n",
    "\n",
    "cols = list(df_detrital_2021)\n",
    "cols.insert(0, cols.pop(cols.index('Ref Number')))\n",
    "df_detrital_2021 = df_detrital_2021.loc[:, cols]"
   ]
  },
  {
   "cell_type": "code",
   "execution_count": 18,
   "id": "a326f3b3",
   "metadata": {},
   "outputs": [
    {
     "data": {
      "text/plain": [
       "6427"
      ]
     },
     "execution_count": 18,
     "metadata": {},
     "output_type": "execute_result"
    }
   ],
   "source": [
    "len(df_detrital_2021)\n",
    "# there are 6439 zircon samples in database of puetz2021"
   ]
  },
  {
   "cell_type": "code",
   "execution_count": null,
   "id": "934a8517",
   "metadata": {},
   "outputs": [],
   "source": []
  },
  {
   "cell_type": "markdown",
   "id": "a3d6af4d",
   "metadata": {},
   "source": [
    "# the following is the code that combine those two databases into one database DZDB0"
   ]
  },
  {
   "cell_type": "code",
   "execution_count": 19,
   "id": "44ac728f",
   "metadata": {},
   "outputs": [],
   "source": [
    "df_Ref_2019_detrital['Pages'] = None\n",
    "df_Ref_2019_detrital['Source_Database'] = 'Puetz et al,2019'\n",
    "df_Ref_2021_detrital['First Page'] = None\n",
    "df_Ref_2021_detrital['Last Page'] = None\n",
    "df_Ref_2021_detrital['Data_Link'] = None\n",
    "df_Ref_2021_detrital['Source_Database'] = 'Puetz et al,2021'\n",
    "\n",
    "df_ABC2019 = df_Ref_2019_detrital\n",
    "df_ABC2021 = df_Ref_2021_detrital\n",
    "data_ref = {'Ref_Number':df_ABC2019['Ref Number'].append(df_ABC2021['Ref Number']).to_list(),\n",
    "         'Ref No. In_Source_Database':df_ABC2019['Ref No. In Source Database'].append(df_ABC2021['Ref No. In Source Database']).to_list(),\n",
    "         'Lead_Author':df_ABC2019['Lead_Author'].append(df_ABC2021['Lead_Author']).to_list(),\n",
    "         'Year':df_ABC2019['Year'].append(df_ABC2021['Year']).to_list(),\n",
    "         'Journal':df_ABC2019['Journal'].append(df_ABC2021['Journal']).to_list(),\n",
    "         'Volume':df_ABC2019['Volume'].append(df_ABC2021['Vol.']).to_list(),\n",
    "         'Pages':df_ABC2019['Pages'].append(df_ABC2021['Pages']).to_list(),\n",
    "         'First_Page':df_ABC2019['First Page'].append(df_ABC2021['First Page']).to_list(),\n",
    "         'Last_Page':df_ABC2019['Last Page'].append(df_ABC2021['Last Page']).to_list(),\n",
    "         'Title':df_ABC2019['Title'].append(df_ABC2021['Title']).to_list(),\n",
    "         'Web_Link':df_ABC2019['Web Link'].append(df_ABC2021['Web Link']).to_list(),\n",
    "         'Data_Link':df_ABC2019['Data_Link'].append(df_ABC2021['Data_Link']).to_list(),\n",
    "         'Source_Database':df_ABC2019['Source_Database'].append(df_ABC2021['Source_Database']).to_list()\n",
    "        }\n",
    "df_ref = pd.DataFrame(data_ref)"
   ]
  },
  {
   "cell_type": "code",
   "execution_count": 20,
   "id": "1c798b4d",
   "metadata": {},
   "outputs": [],
   "source": [
    "df_detrital_2019_count_da_ref['Min. Depos. Age (Ma)'] = None\n",
    "df_detrital_2019_count_da_ref['Spectrometer Location'] = None\n",
    "df_detrital_2019_count_da_ref['Institution'] = None\n",
    "df_detrital_2019_count_da_ref['Spectrometer Model'] = None\n",
    "df_detrital_2021['Max Latitude'] = None\n",
    "df_detrital_2021['Min Latitude'] = None\n",
    "df_detrital_2021['Max Longitude'] = None\n",
    "df_detrital_2021['Min Longitude'] = None\n",
    "df_detrital_2021['Felsic/Mafic'] = None\n",
    "\n",
    "df_ABC2019 = df_detrital_2019_count_da_ref\n",
    "df_ABC2021 = df_detrital_2021\n",
    "data_sample = {'Ref_Number':df_ABC2019['Ref Number'].append(df_ABC2021['Ref Number']).to_list(),\n",
    "             'Ref_Sample_Key':df_ABC2019['Ref_Sample_Key'].append(df_ABC2021['Ref_Sample_Key']).to_list(),\n",
    "             'Ref No. In_Source_Database':df_ABC2019['Ref No. In Source Database'].append(df_ABC2021['Ref No. In Source Database']).to_list(),\n",
    "             'Sample No. In_Source_Database':df_ABC2019['Sample No.'].append(df_ABC2021['Unique Sample No.']).to_list(),\n",
    "             'Source_Database':df_ABC2019['Source Database'].append(df_ABC2021['Source Database']).to_list(),\n",
    "             'Published Sample_ID':df_ABC2019['Sample_ID'].append(df_ABC2021['Published Sample_ID']).to_list(),\n",
    "             'Country/State':df_ABC2019['Country'].append(df_ABC2021['Country/State']).to_list(),\n",
    "             'Region':df_ABC2019['Region'].append(df_ABC2021['Region']).to_list(),\n",
    "             'Continent':df_ABC2019['Continent'].append(df_ABC2021['Continent']).to_list(),\n",
    "             'Major Geographic-Geologic Description':df_ABC2019['Major Geographic-Geologic Description'].append(df_ABC2021['Major Geographic-Geologic Description']).to_list(),\n",
    "             'Minor Geologic-Geographic Unit':df_ABC2019['Minor Geologic-Geographic Unit'].append(df_ABC2021['Minor Geologic-Geographic Unit']).to_list(),\n",
    "             'Locality':df_ABC2019['Locality'].append(df_ABC2021['Locality']).to_list(),\n",
    "             'Latitude':df_ABC2019['Latitude'].append(df_ABC2021['Latitude']).to_list(),\n",
    "             'Longitude':df_ABC2019['Longitude'].append(df_ABC2021['Longitude']).to_list(),\n",
    "             'Max. Depos. Age (Ma)':df_ABC2019['Max. Depos. Age (Ma)'].append(df_ABC2021['Max. Depos. Age (Ma)']).to_list(),\n",
    "             'Est. Depos. Age (Ma)':df_ABC2019['Est. Depos. Age (Ma)'].append(df_ABC2021['Est. Depos. Age (Ma)']).to_list(),\n",
    "             'Min. Depos. Age (Ma)':df_ABC2019['Min. Depos. Age (Ma)'].append(df_ABC2021['Min. Depos. Age (Ma)']).to_list(),\n",
    "             'Mineral':df_ABC2019['Mineral'].append(df_ABC2021['Mineral']).to_list(),\n",
    "             'Mass Spectrometer':df_ABC2019['Mass Spectrometer'].append(df_ABC2021['Mass Spectrometer']).to_list(),\n",
    "             'Spectrometer Location':df_ABC2019['Spectrometer Location'].append(df_ABC2021['Spectrometer Location']).to_list(),\n",
    "             'Institution':df_ABC2019['Institution'].append(df_ABC2021['Institution']).to_list(),\n",
    "             'Spectrometer Model':df_ABC2019['Spectrometer Model'].append(df_ABC2021['Spectrometer Model']).to_list(),\n",
    "             'Class-1 Rock Type':df_ABC2019['Class-1 Rock Type'].append(df_ABC2021['Class-1 Rock Type']).to_list(),\n",
    "             'Class-2 Rock Type':df_ABC2019['Class-2 Rock Type'].append(df_ABC2021['Class-2 Rock Type']).to_list(),\n",
    "             'Class-3 Rock Type':df_ABC2019['Class-3 Rock Type'].append(df_ABC2021['Class-3 Rock Type']).to_list(),\n",
    "             'Felsic/Mafic':df_ABC2019['Felsic/Mafic'].append(df_ABC2021['Felsic/Mafic']).to_list(),\n",
    "             'Max Latitude':df_ABC2019['Max Latitude'].append(df_ABC2021['Max Latitude']).to_list(),\n",
    "             'Min Latitude':df_ABC2019['Min Latitude'].append(df_ABC2021['Min Latitude']).to_list(),\n",
    "             'Max Longitude':df_ABC2019['Max Longitude'].append(df_ABC2021['Max Longitude']).to_list(),\n",
    "             'Min Longitude':df_ABC2019['Min Longitude'].append(df_ABC2021['Min Longitude']).to_list(),\n",
    "             'U-Pb Record Count':df_ABC2019['U-Pb Record Count'].append(df_ABC2021['U-Pb Record Count']).to_list()\n",
    "        }\n",
    "df_sample = pd.DataFrame(data_sample)\n",
    "df_sample.reset_index(drop=True, inplace=True)\n",
    "key1 = df_sample.index.values\n",
    "df_sample.insert(0,'Sample_No.',key1)"
   ]
  },
  {
   "cell_type": "code",
   "execution_count": 21,
   "id": "c5eddc99",
   "metadata": {},
   "outputs": [],
   "source": [
    "df_Data_2019['Spot diam. (μm)'] = None\n",
    "df_Data_2019['Source_Database'] = 'Puetz et al,2019'\n",
    "df_Data_2021['Source_Database'] = 'Puetz et al,2021'\n",
    "\n",
    "df_ABC2019 = df_Data_2019\n",
    "df_ABC2021 = df_Data_2021\n",
    "data_grain = {'Ref_Sample_Key':df_ABC2019['Sample-Ref ID'].append(df_ABC2021['Ref-Sample Key']).to_list(),\n",
    "               'Sample&Grain':df_ABC2019['Sample & Grain'].append(df_ABC2021['Sample&Grain']).to_list(),\n",
    "               'Core/Rim':df_ABC2019['Core/Rim'].append(df_ABC2021['Spot']).to_list(),\n",
    "               'Spot diam. (μm)':df_ABC2019['Spot diam. (μm)'].append(df_ABC2021['Spot diam. (μm)']).to_list(),               \n",
    "               'Published 206Pb/238U age (Ma)':df_ABC2019['206Pb/238U Age (Ma)'].append(df_ABC2021['Published 206Pb/238U age (Ma)']).to_list(),               \n",
    "               'Published 206Pb/238U 2σ uncert.':df_ABC2019['Uncert. (2σ)'].append(df_ABC2021['Published 206Pb/238U 2σ uncert.']).to_list(),               \n",
    "               'Published 207Pb/235U age (Ma)':df_ABC2019['207Pb/235U Age (Ma)'].append(df_ABC2021['Published 207Pb/235U age (Ma)']).to_list(),               \n",
    "               'Published 207Pb/235U 2σ uncert.':df_ABC2019['Uncert. (2σ).1'].append(df_ABC2021['Published 207Pb/235U 2σ uncert.']).to_list(),               \n",
    "               'Published 207Pb/206Pb age (Ma)':df_ABC2019['207Pb/206Pb Age (Ma)'].append(df_ABC2021['Published 207Pb/206Pb age (Ma)']).to_list(),               \n",
    "               'Published 207Pb/206Pb 2σ uncert.':df_ABC2019['Uncert. (2σ).2'].append(df_ABC2021['Published 207Pb/206Pb 2σ uncert.']).to_list(),           \n",
    "               'Source_Database':df_ABC2019['Source_Database'].append(df_ABC2021['Source_Database']).to_list()\n",
    "        }\n",
    "df_grain = pd.DataFrame(data_grain)\n",
    "df_grain.reset_index(drop=True, inplace=True)\n",
    "key1 = df_grain.index.values\n",
    "df_grain.insert(0,'Grain_No.',key1)               \n",
    "               "
   ]
  },
  {
   "cell_type": "code",
   "execution_count": 22,
   "id": "11ee9f9a",
   "metadata": {},
   "outputs": [],
   "source": [
    "# we divide the df_grain into two sheets since the size of df_grain is more than the limition of excel\n",
    "df_grain1 = df_grain[df_grain['Source_Database'] == 'Puetz et al,2019']\n",
    "df_grain2 = df_grain[df_grain['Source_Database'] == 'Puetz et al,2021']\n",
    "\n",
    "with pd.ExcelWriter(r\"data/DZDB0.xlsx\") as writer:\n",
    "    df_ref.to_excel(writer,sheet_name='References',index = False)\n",
    "    df_sample.to_excel(writer,sheet_name='Samples',index = False)\n",
    "    df_grain1.to_excel(writer,sheet_name='UPb_Data1',index = False)\n",
    "    df_grain2.to_excel(writer,sheet_name='UPb_Data2',index = False)"
   ]
  },
  {
   "cell_type": "code",
   "execution_count": 23,
   "id": "655616f2",
   "metadata": {},
   "outputs": [],
   "source": []
  },
  {
   "cell_type": "code",
   "execution_count": null,
   "id": "466a3db3-9ec8-4ffa-bae6-232567abc054",
   "metadata": {},
   "outputs": [],
   "source": []
  },
  {
   "cell_type": "code",
   "execution_count": null,
   "id": "e8585ced-f855-417f-a549-526ee1c38c9c",
   "metadata": {},
   "outputs": [],
   "source": []
  },
  {
   "cell_type": "markdown",
   "id": "4a775973-44e7-4ec3-b5f0-0475e624c1ff",
   "metadata": {},
   "source": [
    "# the following is the code that add a column named 'Standard_Model_Age' as the best age for each zircon grains DZDB1"
   ]
  },
  {
   "cell_type": "code",
   "execution_count": 9,
   "id": "fcc02e5c-8b62-4d48-bc0a-b44dbf8560c3",
   "metadata": {},
   "outputs": [],
   "source": [
    "df_Ref = pd.read_excel('data/DZDB0.xlsx',sheet_name=\"References\")\n",
    "df_Sample = pd.read_excel('data/DZDB0.xlsx',sheet_name=\"Samples\")\n",
    "df_Data1 = pd.read_excel('data/DZDB0.xlsx',sheet_name=\"UPb_Data1\")\n",
    "df_Data2 = pd.read_excel('data/DZDB0.xlsx',sheet_name=\"UPb_Data2\")"
   ]
  },
  {
   "cell_type": "code",
   "execution_count": null,
   "id": "65f6b1a8-b0a1-4147-bb73-28866e57d45f",
   "metadata": {},
   "outputs": [],
   "source": [
    "print(len(df_Ref))\n",
    "print(len(df_Sample))\n",
    "df_Data = df_Data1.append(df_Data2)\n",
    "len(df_Data)"
   ]
  },
  {
   "cell_type": "code",
   "execution_count": 11,
   "id": "7452de55-3d44-4eba-884d-eae1cfbb9eb6",
   "metadata": {},
   "outputs": [],
   "source": [
    "Sample_ID = df_Data1['Grain_No.']\n",
    "Sample_ID = Sample_ID.to_list()\n",
    "\n",
    "Standard_Model_Age=[]\n",
    "sigma = []\n",
    "for i in Sample_ID:\n",
    "    Sample_age = df_Data1[df_Data1['Grain_No.'] == i]\n",
    "    if ~np.isnan(Sample_age.loc[i,'Published 206Pb/238U age (Ma)']):\n",
    "        if Sample_age.loc[i,'Published 206Pb/238U age (Ma)'] < 1200:\n",
    "            Standard_Model_Age.append(Sample_age.loc[i,'Published 206Pb/238U age (Ma)'])\n",
    "            sigma.append(Sample_age.loc[i,'Published 206Pb/238U 2σ uncert.'])\n",
    "            \n",
    "        elif Sample_age.loc[i,'Published 206Pb/238U age (Ma)'] >= 1200:\n",
    "            Standard_Model_Age.append(Sample_age.loc[i,'Published 207Pb/206Pb age (Ma)'])\n",
    "            sigma.append(Sample_age.loc[i,'Published 207Pb/206Pb 2σ uncert.'])\n",
    "    \n",
    "    elif ~np.isnan(float(Sample_age.loc[i,'Published 207Pb/206Pb age (Ma)'])):\n",
    "        if Sample_age.loc[i,'Published 207Pb/206Pb age (Ma)'] >= 1200:\n",
    "            Standard_Model_Age.append(Sample_age.loc[i,'Published 207Pb/206Pb age (Ma)'])        \n",
    "            sigma.append(Sample_age.loc[i,'Published 207Pb/206Pb 2σ uncert.'])\n",
    "        else:\n",
    "            Standard_Model_Age.append(NaN)      \n",
    "            sigma.append(NaN)\n",
    "    else:\n",
    "            Standard_Model_Age.append(NaN)\n",
    "            sigma.append(NaN)\n",
    "df_Data1.insert(5,'Standard_Model_Age',Standard_Model_Age)\n",
    "df_Data1.insert(6,'Standard_Model_Age 2σ uncert.',sigma)\n"
   ]
  },
  {
   "cell_type": "code",
   "execution_count": 12,
   "id": "497c7abb-a792-45dc-b60f-78497f9113e1",
   "metadata": {},
   "outputs": [],
   "source": [
    "Sample_ID = df_Data2['Grain_No.']\n",
    "Sample_ID = Sample_ID.to_list()\n",
    "\n",
    "Standard_Model_Age=[]\n",
    "sigma = []\n",
    "for i in Sample_ID:\n",
    "    Sample_age = df_Data2[df_Data2['Grain_No.'] == i]\n",
    "    if ~np.isnan(Sample_age.loc[i-609566,'Published 206Pb/238U age (Ma)']):\n",
    "        if Sample_age.loc[i-609566,'Published 206Pb/238U age (Ma)'] < 1200:\n",
    "            Standard_Model_Age.append(Sample_age.loc[i-609566,'Published 206Pb/238U age (Ma)'])\n",
    "            sigma.append(Sample_age.loc[i-609566,'Published 206Pb/238U 2σ uncert.'])\n",
    "        elif Sample_age.loc[i-609566,'Published 206Pb/238U age (Ma)'] >= 1200:\n",
    "            Standard_Model_Age.append(Sample_age.loc[i-609566,'Published 207Pb/206Pb age (Ma)'])\n",
    "            sigma.append(Sample_age.loc[i-609566,'Published 207Pb/206Pb 2σ uncert.'])\n",
    "    \n",
    "    elif ~np.isnan(float(Sample_age.loc[i-609566,'Published 207Pb/206Pb age (Ma)'])):\n",
    "        if Sample_age.loc[i-609566,'Published 207Pb/206Pb age (Ma)'] >= 1200:\n",
    "            Standard_Model_Age.append(Sample_age.loc[i-609566,'Published 207Pb/206Pb age (Ma)'])        \n",
    "            sigma.append(Sample_age.loc[i-609566,'Published 207Pb/206Pb 2σ uncert.'])\n",
    "        else:\n",
    "            Standard_Model_Age.append(NaN)      \n",
    "            sigma.append(NaN)\n",
    "    else:\n",
    "            Standard_Model_Age.append(NaN)\n",
    "            sigma.append(NaN)\n",
    "df_Data2.insert(5,'Standard_Model_Age',Standard_Model_Age)\n",
    "df_Data2.insert(6,'Standard_Model_Age 2σ uncert.',sigma)\n",
    "#df_Data2.dtypes"
   ]
  },
  {
   "cell_type": "code",
   "execution_count": null,
   "id": "1847e750-09f0-4b65-8c1f-f2fb75d7ded5",
   "metadata": {},
   "outputs": [],
   "source": [
    "a = df_Data1['Standard_Model_Age 2σ uncert.']\n",
    "new_a = [x/2 for x in a] \n",
    "df_Data1.insert(7,'Standard_Model_Age 1σ uncert.',new_a)\n",
    "\n",
    "a = df_Data2['Standard_Model_Age 2σ uncert.']\n",
    "new_a = [x/2 for x in a] \n",
    "df_Data2.insert(7,'Standard_Model_Age 1σ uncert.',new_a)"
   ]
  },
  {
   "cell_type": "code",
   "execution_count": null,
   "id": "5bbaf031-0a4e-460a-abca-968124375d15",
   "metadata": {},
   "outputs": [],
   "source": []
  },
  {
   "cell_type": "code",
   "execution_count": 27,
   "id": "53b1d286-9ec3-433d-9817-3c5e848ab064",
   "metadata": {},
   "outputs": [],
   "source": [
    "#df_Sample_ = df_Data1[np.logical_and(df_Data1['Published 206Pb/238U age (Ma)'] >= 1000 , df_Data1['Published 206Pb/238U age (Ma)'] <= 1200 )]\n",
    "#df_Sample_[['Published 206Pb/238U age (Ma)', 'Published 207Pb/206Pb age (Ma)']]"
   ]
  },
  {
   "cell_type": "code",
   "execution_count": 28,
   "id": "d1a6086a-84a7-4f6f-93e4-e7c5c3762e28",
   "metadata": {},
   "outputs": [
    {
     "name": "stdout",
     "output_type": "stream",
     "text": [
      "609566\n",
      "604371\n",
      "604553\n",
      "604552\n"
     ]
    },
    {
     "data": {
      "text/plain": [
       "1208923"
      ]
     },
     "execution_count": 28,
     "metadata": {},
     "output_type": "execute_result"
    }
   ],
   "source": [
    "print(len(df_Data1))\n",
    "df_Data1_ = df_Data1.dropna(subset=['Standard_Model_Age'])\n",
    "print(len(df_Data1_))\n",
    "\n",
    "print(len(df_Data2))\n",
    "df_Data2_ = df_Data2.dropna(subset=['Standard_Model_Age'])\n",
    "print(len(df_Data2_))\n",
    "\n",
    "df_Data_ = df_Data1_.append(df_Data2_)\n",
    "len(df_Data_)"
   ]
  },
  {
   "cell_type": "code",
   "execution_count": 32,
   "id": "693dfdf8-9297-4f99-856d-517c92c23330",
   "metadata": {},
   "outputs": [
    {
     "name": "stdout",
     "output_type": "stream",
     "text": [
      "1208576\n",
      "14197\n"
     ]
    }
   ],
   "source": [
    "df_Data_Key = df_Data_[['Ref_Sample_Key']]\n",
    "df_Data_detrital = pd.merge(df_Sample,df_Data_Key,on='Ref_Sample_Key')\n",
    "print(len(df_Data_detrital))\n",
    "#add a new column named 'count' in the sample sheet\n",
    "count = df_Data_detrital['Ref_Sample_Key'].value_counts()\n",
    "data1 = {'Ref_Sample_Key':count.index, 'U-Pb Record Count Standard_Model_Age':count}\n",
    "df1 = pd.DataFrame(data1)\n",
    "df_detrital_count = pd.merge(df_Sample,df1,on='Ref_Sample_Key')\n",
    "\n",
    "print(len(df_detrital_count))"
   ]
  },
  {
   "cell_type": "code",
   "execution_count": 33,
   "id": "b60def0b-ad8f-4d66-b809-eb4d75d7dca4",
   "metadata": {},
   "outputs": [
    {
     "name": "stdout",
     "output_type": "stream",
     "text": [
      "14197\n"
     ]
    },
    {
     "data": {
      "text/plain": [
       "2189"
      ]
     },
     "execution_count": 33,
     "metadata": {},
     "output_type": "execute_result"
    }
   ],
   "source": [
    "df_detrital_count_refno = df_detrital_count[['Ref_Number']]\n",
    "print(len(df_detrital_count_refno))\n",
    "df_Ref_detrital = pd.merge(df_detrital_count_refno,df_Ref,on='Ref_Number')\n",
    "\n",
    "count = df_Ref_detrital['Ref_Number'].value_counts()\n",
    "data1 = {'Ref_Number':count.index, 'Sample Count Standard_Model_Age':count}\n",
    "df1 = pd.DataFrame(data1)\n",
    "df_Ref_detrital = pd.merge(df_Ref,df1,on='Ref_Number')\n",
    "\n",
    "len(df_Ref_detrital)"
   ]
  },
  {
   "cell_type": "code",
   "execution_count": null,
   "id": "c6cc4837-dd31-4ae8-bd15-f5332746e585",
   "metadata": {},
   "outputs": [],
   "source": [
    "import DZ_TectonicSettings as dzts\n",
    "df_Sample_ABC = dzts.get_category_CAWOOD(df_Sample = df_detrital_count, key_column = 'Ref_Sample_Key', DA = 'Est. Depos. Age (Ma)', df_Data = df_Data, CA = 'Standard_Model_Age', category_column='type')"
   ]
  },
  {
   "cell_type": "code",
   "execution_count": null,
   "id": "21cde3d3-0685-48aa-87b0-7241fecede71",
   "metadata": {},
   "outputs": [],
   "source": [
    "# show the distribution of samples in time\n",
    "A_dataframe = df_Sample_ABC[df_Sample_ABC['type']=='A']\n",
    "B_dataframe = df_Sample_ABC[df_Sample_ABC['type']=='B']\n",
    "C_dataframe = df_Sample_ABC[df_Sample_ABC['type']=='C']\n",
    "\n",
    "fig, ax = plt.subplots(1, 4, figsize = (16,4))\n",
    "dataframe=[df_Sample_ABC,A_dataframe,B_dataframe,C_dataframe]\n",
    "color = ['grey','r','b','g']\n",
    "labels=['All-Sample','Category A','Category B','Category C']\n",
    "for i in range(4):\n",
    "    ax[i].hist(dataframe[i]['Est. Depos. Age (Ma)'], histtype='bar', bins = 38, color = color[i], edgecolor='white', label=labels[i],stacked=True)\n",
    "    ax[i].legend(loc = 'best')\n",
    "    ax[i].set_xlabel('DA (Ma)')\n",
    "    ax[i].set_ylabel('Frequency')\n",
    "    #ax[i].set_xticks(range(0,500,50))\n",
    "    #ax[i].set_yticks(range(0,80,20))\n",
    "    #ax[i].set_xlim(0,410)\n",
    "plt.tight_layout()\n",
    "plt.show()"
   ]
  },
  {
   "cell_type": "code",
   "execution_count": 34,
   "id": "b00d7fb1-c04d-4d33-9540-039bbb425917",
   "metadata": {},
   "outputs": [],
   "source": [
    "with pd.ExcelWriter(r\"data/DZDB1.xlsx\") as writer:\n",
    "    df_Ref_detrital.to_excel(writer,sheet_name='References',index = False)\n",
    "    df_Sample_ABC.to_excel(writer,sheet_name='Samples',index = False)\n",
    "    df_Data1_.to_excel(writer,sheet_name='UPb_Data1',index = False)\n",
    "    df_Data2_.to_excel(writer,sheet_name='UPb_Data2',index = False)"
   ]
  },
  {
   "cell_type": "code",
   "execution_count": null,
   "id": "c778943e-eb2f-4fa8-bc6f-f736534f7eff",
   "metadata": {},
   "outputs": [],
   "source": []
  },
  {
   "cell_type": "code",
   "execution_count": null,
   "id": "af829105-4ce9-4a3f-8585-8497f30322a2",
   "metadata": {},
   "outputs": [],
   "source": []
  },
  {
   "cell_type": "code",
   "execution_count": null,
   "id": "1b72b3e7-f1d9-416c-9496-786042fbef31",
   "metadata": {},
   "outputs": [],
   "source": []
  },
  {
   "cell_type": "markdown",
   "id": "c84fd24b",
   "metadata": {},
   "source": [
    "# the following is the code that filter a new database from DB1 under our conditions, and save as DZDB2\n"
   ]
  },
  {
   "cell_type": "code",
   "execution_count": 38,
   "id": "b424d79a",
   "metadata": {},
   "outputs": [],
   "source": [
    "df_Ref = pd.read_excel('data/DZDB1.xlsx',sheet_name=\"References\")\n",
    "df_Sample = pd.read_excel('data/DZDB1.xlsx',sheet_name=\"Samples\")\n",
    "df_Data1 = pd.read_excel('data/DZDB1.xlsx',sheet_name=\"UPb_Data1\")\n",
    "df_Data2 = pd.read_excel('data/DZDB1.xlsx',sheet_name=\"UPb_Data2\")\n"
   ]
  },
  {
   "cell_type": "code",
   "execution_count": 39,
   "id": "6e0b6381",
   "metadata": {},
   "outputs": [
    {
     "name": "stdout",
     "output_type": "stream",
     "text": [
      "2189\n",
      "14197\n",
      "604371\n",
      "604552\n"
     ]
    }
   ],
   "source": [
    "print(len(df_Ref))\n",
    "print(len(df_Sample))\n",
    "print(len(df_Data1))\n",
    "print(len(df_Data2))"
   ]
  },
  {
   "cell_type": "code",
   "execution_count": 40,
   "id": "c3ae84c6",
   "metadata": {},
   "outputs": [
    {
     "data": {
      "text/plain": [
       "1208923"
      ]
     },
     "execution_count": 40,
     "metadata": {},
     "output_type": "execute_result"
    }
   ],
   "source": [
    "df_Data = df_Data1.append(df_Data2)\n",
    "len(df_Data)"
   ]
  },
  {
   "cell_type": "code",
   "execution_count": 41,
   "id": "db81d62e-ba3a-4576-b83c-588b86faebdf",
   "metadata": {},
   "outputs": [
    {
     "name": "stdout",
     "output_type": "stream",
     "text": [
      "8493\n",
      "6400\n"
     ]
    }
   ],
   "source": [
    "df_Sample_410 = df_Sample[np.logical_and(df_Sample['Est. Depos. Age (Ma)'] >= 0 , df_Sample['Est. Depos. Age (Ma)'] <= 410 )]\n",
    "print(len(df_Sample_410))\n",
    "df_Sample_60 = df_Sample_410[df_Sample_410['U-Pb Record Count Standard_Model_Age'] >= 60]\n",
    "print(len(df_Sample_60))"
   ]
  },
  {
   "cell_type": "code",
   "execution_count": 42,
   "id": "f25aa0a4",
   "metadata": {},
   "outputs": [
    {
     "data": {
      "text/plain": [
       "909"
      ]
     },
     "execution_count": 42,
     "metadata": {},
     "output_type": "execute_result"
    }
   ],
   "source": [
    "df_Sample_60_refno = df_Sample_60[['Ref_Number']]\n",
    "df_Ref_detrital = pd.merge(df_Sample_60_refno,df_Ref,on='Ref_Number')\n",
    "df_Ref_detrital = df_Ref_detrital.drop_duplicates(subset=['Ref_Number','Title'], keep='first')\n",
    "print(len(df_Ref_detrital))\n"
   ]
  },
  {
   "cell_type": "code",
   "execution_count": 43,
   "id": "4a4a23a2",
   "metadata": {},
   "outputs": [
    {
     "data": {
      "text/plain": [
       "735799"
      ]
     },
     "execution_count": 43,
     "metadata": {},
     "output_type": "execute_result"
    }
   ],
   "source": [
    "df_Sample_60_refsample = df_Sample_60[['Ref_Sample_Key']]\n",
    "df_Data_detrital = pd.merge(df_Sample_60_refsample,df_Data,on='Ref_Sample_Key')\n",
    "print*len(df_Data_detrital))"
   ]
  },
  {
   "cell_type": "code",
   "execution_count": 118,
   "id": "ca6def19",
   "metadata": {},
   "outputs": [],
   "source": [
    "with pd.ExcelWriter(r\"data/DZDB2.xlsx\") as writer:\n",
    "    df_Ref_detrital.to_excel(writer,sheet_name='References',index = False)\n",
    "    df_Sample_60.to_excel(writer,sheet_name='Samples',index = False)\n",
    "    df_Data_detrital.to_excel(writer,sheet_name='UPb_Data',index = False)"
   ]
  },
  {
   "cell_type": "code",
   "execution_count": null,
   "id": "52db5a2a-fbc3-4be1-b134-e1d613040141",
   "metadata": {},
   "outputs": [],
   "source": []
  }
 ],
 "metadata": {
  "kernelspec": {
   "display_name": "Python [conda env:pygmt]",
   "language": "python",
   "name": "conda-env-pygmt-py"
  },
  "language_info": {
   "codemirror_mode": {
    "name": "ipython",
    "version": 3
   },
   "file_extension": ".py",
   "mimetype": "text/x-python",
   "name": "python",
   "nbconvert_exporter": "python",
   "pygments_lexer": "ipython3",
   "version": "3.8.12"
  }
 },
 "nbformat": 4,
 "nbformat_minor": 5
}
