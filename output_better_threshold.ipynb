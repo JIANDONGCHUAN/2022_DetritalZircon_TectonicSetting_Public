{
 "cells": [
  {
   "cell_type": "code",
   "execution_count": 3,
   "id": "31dfec25",
   "metadata": {},
   "outputs": [],
   "source": [
    "import pandas as pd\n",
    "import numpy as np\n",
    "import matplotlib.pyplot as plt\n",
    "from pandas import Series,DataFrame\n",
    "from numpy import nan as NaN\n"
   ]
  },
  {
   "cell_type": "code",
   "execution_count": 4,
   "id": "5fc2affb-6977-47e1-9a71-6456a9fb5c31",
   "metadata": {},
   "outputs": [
    {
     "data": {
      "text/plain": [
       "datetime.datetime(2022, 1, 17, 15, 38, 30, 437147)"
      ]
     },
     "execution_count": 4,
     "metadata": {},
     "output_type": "execute_result"
    }
   ],
   "source": [
    "from datetime import datetime\n",
    "start_time = datetime.now()\n",
    "start_time"
   ]
  },
  {
   "cell_type": "code",
   "execution_count": 5,
   "id": "1aa892cb",
   "metadata": {},
   "outputs": [],
   "source": [
    "#df_ABC_distance = pd.read_csv('data/distance_y2019_all.csv',sep=',')\n",
    "df_ABC_distance = pd.read_excel('data/DZDB4.xlsx',sheet_name=\"Samples\")\n",
    "\n",
    "df_ABC_distance_100Ma = df_ABC_distance[np.logical_and(df_ABC_distance['Est. Depos. Age (Ma)'] >= 0 , df_ABC_distance['Est. Depos. Age (Ma)'] <= 100 )]\n",
    "\n",
    "Sample_ID = df_ABC_distance_100Ma['Ref_Sample_Key']\n",
    "Sample_ID = Sample_ID.to_list()\n",
    "\n",
    "df_ABC_distance_100Ma = pd.DataFrame(df_ABC_distance_100Ma)\n",
    "df_ABC_distance_100Ma.loc[:,'true_type'] = 'a'\n",
    "df_true_type = DataFrame()\n",
    "for i in Sample_ID:\n",
    "    distance_subduction = df_ABC_distance_100Ma[df_ABC_distance_100Ma['Ref_Sample_Key'] == i]\n",
    "    if 0 <= float(distance_subduction['distance_subduction']) < 500:\n",
    "        distance_subduction = distance_subduction.replace('a','a')\n",
    "        df_true_type = df_true_type.append(distance_subduction[:],ignore_index=True)\n",
    "    elif float(distance_subduction['distance_subduction']) >= 500 and float(distance_subduction['distance_subduction']) <= 2000:\n",
    "        distance_subduction = distance_subduction.replace('a','b')\n",
    "        df_true_type = df_true_type.append(distance_subduction[:],ignore_index=True)\n",
    "    else:\n",
    "        distance_subduction = distance_subduction.replace('a','c')\n",
    "        df_true_type = df_true_type.append(distance_subduction[:],ignore_index=True)\n"
   ]
  },
  {
   "cell_type": "code",
   "execution_count": 6,
   "id": "fc273502",
   "metadata": {},
   "outputs": [
    {
     "data": {
      "text/plain": [
       "100.0"
      ]
     },
     "execution_count": 6,
     "metadata": {},
     "output_type": "execute_result"
    }
   ],
   "source": [
    "df_ABC_distance_100Ma['Est. Depos. Age (Ma)'].max()"
   ]
  },
  {
   "cell_type": "code",
   "execution_count": 8,
   "id": "f6d0d47f",
   "metadata": {},
   "outputs": [],
   "source": [
    "df_Data = pd.read_excel('data/DZDB4.xlsx',sheet_name=\"UPb_Data\")\n",
    "\n",
    "SedimentaryZircon = pd.merge(df_true_type,df_Data,on='Ref_Sample_Key')\n",
    "#SedimentaryZircon.columns"
   ]
  },
  {
   "cell_type": "code",
   "execution_count": 9,
   "id": "f02a916b",
   "metadata": {},
   "outputs": [
    {
     "data": {
      "text/plain": [
       "Index(['Sample_No.', 'Ref_Number', 'Ref_Sample_Key',\n",
       "       'Ref No. In_Source_Database', 'Sample No. In_Source_Database',\n",
       "       'Source_Database_x', 'Published Sample_ID', 'Country/State', 'Region',\n",
       "       'Continent', 'Major Geographic-Geologic Description',\n",
       "       'Minor Geologic-Geographic Unit', 'Locality', 'Latitude', 'Longitude',\n",
       "       'Max. Depos. Age (Ma)', 'Est. Depos. Age (Ma)', 'Min. Depos. Age (Ma)',\n",
       "       'Mineral', 'Mass Spectrometer', 'Spectrometer Location', 'Institution',\n",
       "       'Spectrometer Model', 'Class-1 Rock Type', 'Class-2 Rock Type',\n",
       "       'Class-3 Rock Type', 'Felsic/Mafic', 'Max Latitude', 'Min Latitude',\n",
       "       'Max Longitude', 'Min Longitude', 'U-Pb Record Count',\n",
       "       'U-Pb Record Count Standard_Model_Age', 'type', 'colour', 'FROMAGE',\n",
       "       'TOAGE', 'distance_subduction', 'distance_subduction_m2016',\n",
       "       'distance_Sengor_Natalin_rifts', 'distance_passive_margin_rifts',\n",
       "       'distance_SN_PM_rifts', 'distance_active', 'distance_inactive',\n",
       "       'distance_active_passive_margin', 'YSG_value', 'YSG_error',\n",
       "       'YC1s_value', 'YC1s_error', 'YC2s_value', 'YC2s_error', 'true_type',\n",
       "       'Grain_No.', 'Sample&Grain', 'Core/Rim', 'Spot diam. (μm)',\n",
       "       'Standard_Model_Age', 'Standard_Model_Age 2σ uncert.',\n",
       "       'Standard_Model_Age 1σ uncert.', 'Published 206Pb/238U age (Ma)',\n",
       "       'Published 206Pb/238U 2σ uncert.', 'Published 207Pb/235U age (Ma)',\n",
       "       'Published 207Pb/235U 2σ uncert.', 'Published 207Pb/206Pb age (Ma)',\n",
       "       'Published 207Pb/206Pb 2σ uncert.', 'Source_Database_y'],\n",
       "      dtype='object')"
      ]
     },
     "execution_count": 9,
     "metadata": {},
     "output_type": "execute_result"
    }
   ],
   "source": [
    "SedimentaryZircon.columns"
   ]
  },
  {
   "cell_type": "code",
   "execution_count": 14,
   "id": "424f2c5e",
   "metadata": {},
   "outputs": [],
   "source": [
    "SedimentaryZircon_simplify = SedimentaryZircon[['Ref_Sample_Key', 'Est. Depos. Age (Ma)', 'Standard_Model_Age', 'true_type']]\n",
    "df_true_type_simplify = df_true_type[['Ref_Sample_Key', 'true_type']]\n"
   ]
  },
  {
   "cell_type": "markdown",
   "id": "e840b55b",
   "metadata": {},
   "source": [
    "# better threshold test"
   ]
  },
  {
   "cell_type": "code",
   "execution_count": 16,
   "id": "5ddc06a9",
   "metadata": {},
   "outputs": [],
   "source": [
    "#value1 = np.arange(0,1.01,0.01)\n",
    "#value2 = np.arange(0,3010,10)\n",
    "\n",
    "value1 = np.arange(0,0.11,0.01)\n",
    "value2 = np.arange(0,100,10)\n",
    "list_threshold = []\n",
    "\n",
    "Sample_ID = df_true_type_simplify['Ref_Sample_Key']\n",
    "Sample_ID = Sample_ID.to_list()\n",
    "for iii in value1:\n",
    "    iii=round(iii,2)\n",
    "    for ii in value2:\n",
    "        df_try = DataFrame()\n",
    "        for i in Sample_ID:\n",
    "            Sample_age = SedimentaryZircon_simplify[SedimentaryZircon_simplify['Ref_Sample_Key'] == i]\n",
    "\n",
    "            age_list = Sample_age['Standard_Model_Age']\n",
    "            CA_DA = age_list - Sample_age['Est. Depos. Age (Ma)']            \n",
    "            CA_DA_Order = CA_DA.sort_values(ascending = True)\n",
    "            \n",
    "            sample_plot = df_true_type_simplify[df_true_type_simplify['Ref_Sample_Key'] == i]\n",
    "            sample_plot = sample_plot.copy()\n",
    "            if CA_DA_Order.iloc[int(len(CA_DA)*iii)] <= ii:\n",
    "                sample_plot.loc[:,'test_type'] = 'A'\n",
    "                df_try = df_try.append(sample_plot[:],ignore_index=True)\n",
    "            else:\n",
    "                sample_plot.loc[:,'test_type'] = 'B or C'\n",
    "                df_try = df_try.append(sample_plot[:],ignore_index=True)\n",
    "\n",
    "        PP = df_try[df_try['test_type'] == 'A']\n",
    "        TP = PP[PP['true_type'] == 'a']\n",
    "        FP = PP[PP['true_type'] != 'a']\n",
    "        PN = df_try[df_try['test_type'] != 'A']\n",
    "        TN = PN[PN['true_type'] != 'a']\n",
    "        FN = PN[PN['true_type'] == 'a']\n",
    "        \n",
    "        list_sub = [iii,ii,len(PP),len(TP),len(FP),len(PN),len(TN),len(FN)]\n",
    "        \n",
    "        list_threshold.append(list_sub)\n",
    "        "
   ]
  },
  {
   "cell_type": "code",
   "execution_count": 19,
   "id": "ce456f70-b610-4557-b32f-ffa8a446b566",
   "metadata": {},
   "outputs": [
    {
     "name": "stdout",
     "output_type": "stream",
     "text": [
      "110\n",
      "[[0.0, 0, 473, 298, 175, 2793, 1909, 884], [0.0, 10, 1267, 691, 576, 1999, 1508, 491], [0.0, 20, 1593, 801, 792, 1673, 1292, 381], [0.0, 30, 1836, 878, 958, 1430, 1126, 304], [0.0, 40, 1988, 943, 1045, 1278, 1039, 239], [0.0, 50, 2061, 984, 1077, 1205, 1007, 198], [0.0, 60, 2126, 1016, 1110, 1140, 974, 166], [0.0, 70, 2179, 1031, 1148, 1087, 936, 151], [0.0, 80, 2238, 1052, 1186, 1028, 898, 130], [0.0, 90, 2322, 1071, 1251, 944, 833, 111], [0.01, 0, 349, 232, 117, 2917, 1967, 950], [0.01, 10, 1102, 630, 472, 2164, 1612, 552], [0.01, 20, 1424, 748, 676, 1842, 1408, 434], [0.01, 30, 1674, 839, 835, 1592, 1249, 343], [0.01, 40, 1830, 905, 925, 1436, 1159, 277], [0.01, 50, 1921, 948, 973, 1345, 1111, 234], [0.01, 60, 1978, 977, 1001, 1288, 1083, 205], [0.01, 70, 2028, 996, 1032, 1238, 1052, 186], [0.01, 80, 2093, 1019, 1074, 1173, 1010, 163], [0.01, 90, 2174, 1038, 1136, 1092, 948, 144], [0.02, 0, 234, 163, 71, 3032, 2013, 1019], [0.02, 10, 907, 547, 360, 2359, 1724, 635], [0.02, 20, 1224, 692, 532, 2042, 1552, 490], [0.02, 30, 1453, 772, 681, 1813, 1403, 410], [0.02, 40, 1614, 843, 771, 1652, 1313, 339], [0.02, 50, 1704, 886, 818, 1562, 1266, 296], [0.02, 60, 1781, 920, 861, 1485, 1223, 262], [0.02, 70, 1834, 942, 892, 1432, 1192, 240], [0.02, 80, 1902, 971, 931, 1364, 1153, 211], [0.02, 90, 1979, 998, 981, 1287, 1103, 184], [0.03, 0, 168, 120, 48, 3098, 2036, 1062], [0.03, 10, 782, 489, 293, 2484, 1791, 693], [0.03, 20, 1082, 631, 451, 2184, 1633, 551], [0.03, 30, 1311, 720, 591, 1955, 1493, 462], [0.03, 40, 1473, 795, 678, 1793, 1406, 387], [0.03, 50, 1587, 846, 741, 1679, 1343, 336], [0.03, 60, 1647, 878, 769, 1619, 1315, 304], [0.03, 70, 1709, 901, 808, 1557, 1276, 281], [0.03, 80, 1780, 932, 848, 1486, 1236, 250], [0.03, 90, 1852, 959, 893, 1414, 1191, 223], [0.04, 0, 137, 103, 34, 3129, 2050, 1079], [0.04, 10, 701, 460, 241, 2565, 1843, 722], [0.04, 20, 986, 591, 395, 2280, 1689, 591], [0.04, 30, 1211, 685, 526, 2055, 1558, 497], [0.04, 40, 1370, 755, 615, 1896, 1469, 427], [0.04, 50, 1484, 810, 674, 1782, 1410, 372], [0.04, 60, 1560, 847, 713, 1706, 1371, 335], [0.04, 70, 1617, 874, 743, 1649, 1341, 308], [0.04, 80, 1676, 898, 778, 1590, 1306, 284], [0.04, 90, 1752, 925, 827, 1514, 1257, 257], [0.05, 0, 113, 84, 29, 3153, 2055, 1098], [0.05, 10, 639, 427, 212, 2627, 1872, 755], [0.05, 20, 895, 551, 344, 2371, 1740, 631], [0.05, 30, 1108, 651, 457, 2158, 1627, 531], [0.05, 40, 1271, 718, 553, 1995, 1531, 464], [0.05, 50, 1389, 777, 612, 1877, 1472, 405], [0.05, 60, 1466, 812, 654, 1800, 1430, 370], [0.05, 70, 1531, 840, 691, 1735, 1393, 342], [0.05, 80, 1598, 875, 723, 1668, 1361, 307], [0.05, 90, 1674, 901, 773, 1592, 1311, 281], [0.06, 0, 95, 73, 22, 3171, 2062, 1109], [0.06, 10, 592, 401, 191, 2674, 1893, 781], [0.06, 20, 842, 527, 315, 2424, 1769, 655], [0.06, 30, 1044, 629, 415, 2222, 1669, 553], [0.06, 40, 1199, 697, 502, 2067, 1582, 485], [0.06, 50, 1323, 752, 571, 1943, 1513, 430], [0.06, 60, 1401, 792, 609, 1865, 1475, 390], [0.06, 70, 1466, 817, 649, 1800, 1435, 365], [0.06, 80, 1536, 849, 687, 1730, 1397, 333], [0.06, 90, 1616, 879, 737, 1650, 1347, 303], [0.07, 0, 86, 66, 20, 3180, 2064, 1116], [0.07, 10, 550, 373, 177, 2716, 1907, 809], [0.07, 20, 784, 499, 285, 2482, 1799, 683], [0.07, 30, 969, 595, 374, 2297, 1710, 587], [0.07, 40, 1137, 672, 465, 2129, 1619, 510], [0.07, 50, 1252, 723, 529, 2014, 1555, 459], [0.07, 60, 1332, 764, 568, 1934, 1516, 418], [0.07, 70, 1402, 797, 605, 1864, 1479, 385], [0.07, 80, 1472, 831, 641, 1794, 1443, 351], [0.07, 90, 1545, 856, 689, 1721, 1395, 326], [0.08, 0, 77, 59, 18, 3189, 2066, 1123], [0.08, 10, 511, 349, 162, 2755, 1922, 833], [0.08, 20, 733, 469, 264, 2533, 1820, 713], [0.08, 30, 927, 575, 352, 2339, 1732, 607], [0.08, 40, 1086, 654, 432, 2180, 1652, 528], [0.08, 50, 1211, 709, 502, 2055, 1582, 473], [0.08, 60, 1287, 747, 540, 1979, 1544, 435], [0.08, 70, 1343, 776, 567, 1923, 1517, 406], [0.08, 80, 1418, 816, 602, 1848, 1482, 366], [0.08, 90, 1486, 844, 642, 1780, 1442, 338], [0.09, 0, 73, 55, 18, 3193, 2066, 1127], [0.09, 10, 459, 321, 138, 2807, 1946, 861], [0.09, 20, 680, 445, 235, 2586, 1849, 737], [0.09, 30, 876, 553, 323, 2390, 1761, 629], [0.09, 40, 1035, 637, 398, 2231, 1686, 545], [0.09, 50, 1155, 695, 460, 2111, 1624, 487], [0.09, 60, 1237, 732, 505, 2029, 1579, 450], [0.09, 70, 1291, 756, 535, 1975, 1549, 426], [0.09, 80, 1367, 797, 570, 1899, 1514, 385], [0.09, 90, 1438, 826, 612, 1828, 1472, 356], [0.1, 0, 66, 50, 16, 3200, 2068, 1132], [0.1, 10, 434, 304, 130, 2832, 1954, 878], [0.1, 20, 636, 422, 214, 2630, 1870, 760], [0.1, 30, 840, 540, 300, 2426, 1784, 642], [0.1, 40, 988, 617, 371, 2278, 1713, 565], [0.1, 50, 1113, 679, 434, 2153, 1650, 503], [0.1, 60, 1185, 712, 473, 2081, 1611, 470], [0.1, 70, 1250, 743, 507, 2016, 1577, 439], [0.1, 80, 1314, 776, 538, 1952, 1546, 406], [0.1, 90, 1392, 809, 583, 1874, 1501, 373]]\n"
     ]
    }
   ],
   "source": [
    "print(len(list_threshold))\n",
    "print(list_threshold)"
   ]
  },
  {
   "cell_type": "code",
   "execution_count": null,
   "id": "118f74fc-fbf4-4946-9f86-156a3351c159",
   "metadata": {},
   "outputs": [],
   "source": []
  },
  {
   "cell_type": "code",
   "execution_count": null,
   "id": "ca5416dc",
   "metadata": {},
   "outputs": [],
   "source": []
  },
  {
   "cell_type": "code",
   "execution_count": null,
   "id": "c11f1c6a",
   "metadata": {},
   "outputs": [],
   "source": [
    "df_threshold=DataFrame(list_threshold)\n",
    "df_threshold.rename(columns={0:'y',1:'x',2:'PP',3:'TP',4:'FP',5:'PN',6:'TN',7:'FN'},inplace=True)\n",
    "df_threshold"
   ]
  },
  {
   "cell_type": "code",
   "execution_count": null,
   "id": "a25529b1",
   "metadata": {},
   "outputs": [],
   "source": [
    "outputpath='data/better_threshold.csv'\n",
    "df_threshold.to_csv(outputpath,sep=',',index = False,header = True)"
   ]
  },
  {
   "cell_type": "code",
   "execution_count": null,
   "id": "0d6f2fcf",
   "metadata": {},
   "outputs": [],
   "source": []
  },
  {
   "cell_type": "code",
   "execution_count": 2,
   "id": "b22f657a",
   "metadata": {},
   "outputs": [],
   "source": [
    "df_threshold = pd.read_csv('data/better_threshold.csv',sep=',')"
   ]
  },
  {
   "cell_type": "markdown",
   "id": "d574ed8c",
   "metadata": {},
   "source": [
    "# PS: sensitivity = recall = TPR"
   ]
  },
  {
   "cell_type": "code",
   "execution_count": 12,
   "id": "c814ec2d",
   "metadata": {},
   "outputs": [],
   "source": [
    "for i in df_threshold.index:\n",
    "    df_threshold.loc[i,'sensitivity'] = df_threshold.loc[i,'TP']/(df_threshold.loc[i,'TP']+df_threshold.loc[i,'FN'])\n",
    "    df_threshold.loc[i,'specificity'] = df_threshold.loc[i,'TN']/(df_threshold.loc[i,'TN']+df_threshold.loc[i,'FP'])\n",
    "    df_threshold.loc[i,'precision'] = df_threshold.loc[i,'TP']/(df_threshold.loc[i,'TP']+df_threshold.loc[i,'FP'])\n",
    "    df_threshold.loc[i,'recall'] = df_threshold.loc[i,'TP']/(df_threshold.loc[i,'TP']+df_threshold.loc[i,'FN'])\n",
    "    df_threshold.loc[i,'accuracy'] = (df_threshold.loc[i,'TP']+df_threshold.loc[i,'TN'])/(df_threshold.loc[i,'TP']+df_threshold.loc[i,'FP']+df_threshold.loc[i,'TN']+df_threshold.loc[i,'FN'])   \n",
    "    df_threshold.loc[i,'FPR'] = df_threshold.loc[i,'FP']/(df_threshold.loc[i,'FP']+df_threshold.loc[i,'TN'])\n",
    "    df_threshold.loc[i,'TPR'] = df_threshold.loc[i,'TP']/(df_threshold.loc[i,'TP']+df_threshold.loc[i,'FN'])\n",
    "    df_threshold.loc[i,'F1'] = 2*df_threshold.loc[i,'precision']*df_threshold.loc[i,'recall']/(df_threshold.loc[i,'precision']+df_threshold.loc[i,'recall'])\n",
    "    df_threshold.loc[i,'Fβ2'] = 5*df_threshold.loc[i,'precision']*df_threshold.loc[i,'recall']/(4*df_threshold.loc[i,'precision']+df_threshold.loc[i,'recall'])\n",
    "    df_threshold.loc[i,'Fβ0.5'] = 1.25*df_threshold.loc[i,'precision']*df_threshold.loc[i,'recall']/(0.5*df_threshold.loc[i,'precision']+df_threshold.loc[i,'recall'])\n",
    "    df_threshold.loc[i,'specificity'] = df_threshold.loc[i,'TN']/(df_threshold.loc[i,'FP']+df_threshold.loc[i,'TN'])\n",
    "\n",
    "#print(df_threshold[df_threshold['accuracy'] == df_threshold['accuracy'].max()])\n",
    "#print(df_threshold[df_threshold['precision'] == df_threshold['precision'].max()])\n",
    "#print(df_threshold[df_threshold['recall'] == df_threshold['recall'].max()])\n",
    "#print(df_threshold[df_threshold['F1'] == df_threshold['F1'].max()])\n",
    "#print(df_threshold[df_threshold['Fβ2'] == df_threshold['Fβ2'].max()])\n",
    "#print(df_threshold[df_threshold['Fβ0.5'] == df_threshold['Fβ0.5'].max()])\n",
    "\n",
    "outputpath='data/better_threshold.csv'\n",
    "df_threshold.to_csv(outputpath,sep=',',index = False,header = True)"
   ]
  },
  {
   "cell_type": "code",
   "execution_count": null,
   "id": "3da40c7b",
   "metadata": {},
   "outputs": [],
   "source": []
  }
 ],
 "metadata": {
  "kernelspec": {
   "display_name": "pygmt",
   "language": "python",
   "name": "pygmt"
  },
  "language_info": {
   "codemirror_mode": {
    "name": "ipython",
    "version": 3
   },
   "file_extension": ".py",
   "mimetype": "text/x-python",
   "name": "python",
   "nbconvert_exporter": "python",
   "pygments_lexer": "ipython3",
   "version": "3.8.12"
  }
 },
 "nbformat": 4,
 "nbformat_minor": 5
}
