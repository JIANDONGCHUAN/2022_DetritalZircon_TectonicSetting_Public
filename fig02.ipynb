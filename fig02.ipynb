{
 "cells": [
  {
   "cell_type": "code",
   "execution_count": 1,
   "id": "overall-afghanistan",
   "metadata": {},
   "outputs": [],
   "source": [
    "import pandas as pd\n",
    "import numpy as np\n",
    "import matplotlib.pyplot as plt\n",
    "from pandas import Series,DataFrame\n",
    "from numpy import nan as NaN\n",
    "import matplotlib.gridspec as gridspec\n",
    "\n",
    "import random"
   ]
  },
  {
   "cell_type": "code",
   "execution_count": 3,
   "id": "worse-craft",
   "metadata": {},
   "outputs": [],
   "source": [
    "df_Sample_Details = pd.read_excel('data/DZDB4.xlsx',sheet_name=\"Samples\")\n",
    "df_Data = pd.read_excel('data/DZDB4.xlsx',sheet_name=\"UPb_Data\")\n"
   ]
  },
  {
   "cell_type": "code",
   "execution_count": 4,
   "id": "vital-zambia",
   "metadata": {},
   "outputs": [],
   "source": [
    "def flatten(input_list):\n",
    "    output_list = []\n",
    "    while True:\n",
    "        if input_list == []:\n",
    "            break\n",
    "        for index, i in enumerate(input_list):\n",
    "            if type(i)== list:\n",
    "                input_list = i + input_list[index+1:]\n",
    "                break\n",
    "            else:\n",
    "                output_list.append(i)\n",
    "                input_list.pop(index)\n",
    "                break\n",
    "    return output_list"
   ]
  },
  {
   "cell_type": "code",
   "execution_count": 5,
   "id": "logical-knife",
   "metadata": {},
   "outputs": [],
   "source": [
    "def ca_da(sample_test):\n",
    "    df = df_Data[df_Data['Ref_Sample_Key'] == sample_test]\n",
    "    all_test = df['Standard_Model_Age'].tolist()\n",
    "    all_ca = [x/1000 for x in all_test]\n",
    "    #random.shuffle(all_ca)\n",
    "    DA = df_Sample_Details[df_Sample_Details['Ref_Sample_Key'] == sample_test]\n",
    "    da = DA['Est. Depos. Age (Ma)']\n",
    "    da = float(da/1000.)\n",
    "    return all_ca, da\n",
    "\n",
    "def n_r(sample_test, all_ca, da, run_times):\n",
    "    slice1 = [x - da for x in all_ca]\n",
    "    slice1.sort()\n",
    "    if slice1[int(len(slice1)*0.05)] >= 150/1000:\n",
    "        real_type = 'C'\n",
    "    elif slice1[int(len(slice1)*0.3)] >= 100/1000:\n",
    "        real_type = 'B'        \n",
    "    else:\n",
    "        real_type = 'A'\n",
    "    print(real_type)\n",
    "    \n",
    "    grain_numbers = np.arange(10,len(slice1),10)\n",
    "    n_r_0 = []\n",
    "    n_r_1 = []\n",
    "    n_r_2 = []\n",
    "    n_r_A = []\n",
    "    n_r_B = []\n",
    "    n_r_C = []\n",
    "\n",
    "    for number in grain_numbers:\n",
    "        ratios = []\n",
    "        ratios_A = []\n",
    "        ratios_B = []\n",
    "        ratios_C = []\n",
    "        for ii in range(20):  \n",
    "            df_outcome = pd.DataFrame()\n",
    "            for ii in range(run_times): \n",
    "                slice0 = random.sample(all_ca, number)\n",
    "                slice1 = [x - da for x in slice0]\n",
    "                slice1.sort()\n",
    "                if slice1[int(len(slice1)*0.05)] >= 0.15:\n",
    "                    df_test = pd.DataFrame({'Ref_Sample_Key':[sample_test],'numbers':[number]})\n",
    "                    df_test['type'] = 'C'\n",
    "                    df_outcome = df_outcome.append(df_test[:],ignore_index=True)\n",
    "                elif slice1[int(len(slice1)*0.3)] >= 0.1:\n",
    "                    df_test = pd.DataFrame({'Ref_Sample_Key':[sample_test],'numbers':[number]})\n",
    "                    df_test['type'] = 'B'        \n",
    "                    df_outcome = df_outcome.append(df_test[:],ignore_index=True)\n",
    "                else:\n",
    "                    df_test = pd.DataFrame({'Ref_Sample_Key':[sample_test],'numbers':[number]})\n",
    "                    df_test['type'] = 'A'\n",
    "                    df_outcome = df_outcome.append(df_test[:],ignore_index=True)\n",
    "            ratio = len(df_outcome[df_outcome['type']==real_type])/run_times\n",
    "            ratios.append(ratio)\n",
    "            ratio_A = len(df_outcome[df_outcome['type']=='A'])/run_times\n",
    "            ratios_A.append(ratio_A)            \n",
    "            ratio_B = len(df_outcome[df_outcome['type']=='B'])/run_times\n",
    "            ratios_B.append(ratio_B)           \n",
    "            ratio_C = len(df_outcome[df_outcome['type']=='C'])/run_times\n",
    "            ratios_C.append(ratio_C)\n",
    "            \n",
    "        ratio_mean = np.mean(ratios)\n",
    "        ratio_Amean = np.mean(ratios_A)\n",
    "        ratio_Bmean = np.mean(ratios_B)\n",
    "        ratio_Cmean = np.mean(ratios_C)\n",
    "\n",
    "        n_r_0.append(real_type)\n",
    "        n_r_1.append(number)\n",
    "        n_r_2.append(ratio_mean)\n",
    "        n_r_A.append(ratio_Amean)\n",
    "        n_r_B.append(ratio_Bmean)\n",
    "        n_r_C.append(ratio_Cmean)\n",
    "\n",
    "        #print(\"%s grains: %d\" % (number,ratios))\n",
    "        #print(ratios)\n",
    "    n_r = pd.DataFrame({'type':n_r_0,'number':n_r_1,'ratio':n_r_2,'ratio_A':n_r_A,'ratio_B':n_r_B,'ratio_C':n_r_C,})\n",
    "    return n_r\n",
    "\n",
    "def fitplot(df, color, ployfit = False):\n",
    "    from matplotlib.pyplot import MultipleLocator\n",
    "    x = df['number']\n",
    "    y = df['ratio']\n",
    "    p1 = []\n",
    "    plot1=plt.plot(x, y, '*',color=color,label='Category '+df['type'][1], alpha = 0.5)\n",
    "    \n",
    "    if ployfit == True:\n",
    "        z1 = np.polyfit(x, y, 4) # 用2次多项式拟合\n",
    "        p1 = np.poly1d(z1)\n",
    "        yvals=p1(x) # 也可以使用yvals=np.polyval(z1,x)\n",
    "        plot2=plt.plot(x, yvals, color=color,label='Polyfit category '+df['type'][1], alpha = 0.5)\n",
    "        a = 60\n",
    "        b = p1(60)\n",
    "    else:\n",
    "        a = 60\n",
    "        b = df[df['number'] == a]['ratio']\n",
    "    print(\"b: %f\" % b)\n",
    "    plt.vlines(a, 0, b, linestyle=\"dashed\", color='orange')\n",
    "    plt.hlines(b, 0, a, linestyle=\"dashed\", color='orange')\n",
    "    plt.scatter(a, b, zorder=2, color='orange')\n",
    "    plt.xlabel('The number of grains') \n",
    "    plt.ylabel('Percentage')\n",
    "    ax=plt.gca()\n",
    "    x_major_locator = MultipleLocator(60)\n",
    "    ax.xaxis.set_major_locator(x_major_locator)\n",
    "    plt.xlim(0, None)\n",
    "    plt.ylim(0.6, None)\n",
    "    plt.legend(loc=4) # 指定legend的位置\n",
    "    #plt.title('polyfitting')\n",
    "    #plt.show()\n",
    "    #plt.savefig('plots/hist/grains_comparsion2.pdf', dpi=1000)\n",
    "\n",
    "    if len(p1) != 0:\n",
    "        return p1"
   ]
  },
  {
   "cell_type": "code",
   "execution_count": 6,
   "id": "historical-empty",
   "metadata": {},
   "outputs": [
    {
     "data": {
      "text/plain": [
       "Index(['Sample_No.', 'Ref_Number', 'Ref_Sample_Key',\n",
       "       'Ref No. In_Source_Database', 'Sample No. In_Source_Database',\n",
       "       'Source_Database', 'Published Sample_ID', 'Country/State', 'Region',\n",
       "       'Continent', 'Major Geographic-Geologic Description',\n",
       "       'Minor Geologic-Geographic Unit', 'Locality', 'Latitude', 'Longitude',\n",
       "       'Max. Depos. Age (Ma)', 'Est. Depos. Age (Ma)', 'Min. Depos. Age (Ma)',\n",
       "       'Mineral', 'Mass Spectrometer', 'Spectrometer Location', 'Institution',\n",
       "       'Spectrometer Model', 'Class-1 Rock Type', 'Class-2 Rock Type',\n",
       "       'Class-3 Rock Type', 'Felsic/Mafic', 'Max Latitude', 'Min Latitude',\n",
       "       'Max Longitude', 'Min Longitude', 'U-Pb Record Count',\n",
       "       'U-Pb Record Count Standard_Model_Age', 'type', 'colour', 'FROMAGE',\n",
       "       'TOAGE', 'distance_subduction', 'distance_subduction_m2016',\n",
       "       'distance_Sengor_Natalin_rifts', 'distance_passive_margin_rifts',\n",
       "       'distance_SN_PM_rifts', 'distance_active', 'distance_inactive',\n",
       "       'distance_active_passive_margin', 'YSG_value', 'YSG_error',\n",
       "       'YC1s_value', 'YC1s_error', 'YC2s_value', 'YC2s_error'],\n",
       "      dtype='object')"
      ]
     },
     "execution_count": 6,
     "metadata": {},
     "output_type": "execute_result"
    }
   ],
   "source": [
    "df_Sample_Details.columns"
   ]
  },
  {
   "cell_type": "code",
   "execution_count": 7,
   "id": "square-worth",
   "metadata": {},
   "outputs": [],
   "source": [
    "df_Ref_detrital = pd.read_excel('data/DZDB4.xlsx',sheet_name=\"References\")"
   ]
  },
  {
   "cell_type": "code",
   "execution_count": 8,
   "id": "prescribed-mistress",
   "metadata": {},
   "outputs": [
    {
     "name": "stdout",
     "output_type": "stream",
     "text": [
      "     Ref_Number  Ref No. In_Source_Database      Lead_Author  Year  \\\n",
      "499        1463                         121  Wang, X. et al.  2019   \n",
      "\n",
      "                      Journal Volume        Pages First_Page Last_Page  \\\n",
      "499  Geophysical Res Letters      46  11773-11781        NaN       NaN   \n",
      "\n",
      "                                                 Title  \\\n",
      "499  Parathethys Last Gasp in Central Asia and Late...   \n",
      "\n",
      "                                  Web_Link Data_Link   Source_Database  \\\n",
      "499  https://doi.org/10.1029/2019GL084838        NaN  Puetz et al,2021   \n",
      "\n",
      "     Sample Count Standard_Model_Age  \n",
      "499                                3  \n",
      "     Ref_Number  Ref No. In_Source_Database        Lead_Author  Year  \\\n",
      "464        1371                          29  Deng, X.S. et al.  2020   \n",
      "\n",
      "               Journal Volume    Pages First_Page Last_Page  \\\n",
      "464  Gondwana Research     79  197-208        NaN       NaN   \n",
      "\n",
      "                                                 Title  \\\n",
      "464  Detrital record of late-stage silicic volcanis...   \n",
      "\n",
      "                                     Web_Link Data_Link   Source_Database  \\\n",
      "464  https://doi.org/10.1016/j.gr.2019.09.015       NaN  Puetz et al,2021   \n",
      "\n",
      "     Sample Count Standard_Model_Age  \n",
      "464                               10  \n",
      "Empty DataFrame\n",
      "Columns: [Ref_Number, Ref No. In_Source_Database, Lead_Author, Year, Journal, Volume, Pages, First_Page, Last_Page, Title, Web_Link, Data_Link, Source_Database, Sample Count Standard_Model_Age]\n",
      "Index: []\n"
     ]
    }
   ],
   "source": [
    "for i in [1463, 1371, 1182]:\n",
    "    a = df_Ref_detrital[df_Ref_detrital['Ref_Number'] == i ]\n",
    "    print(a)"
   ]
  },
  {
   "cell_type": "code",
   "execution_count": 9,
   "id": "infinite-prefix",
   "metadata": {},
   "outputs": [
    {
     "name": "stdout",
     "output_type": "stream",
     "text": [
      "3098    622\n",
      "Name: U-Pb Record Count, dtype: int64\n",
      "1200    538\n",
      "Name: U-Pb Record Count, dtype: int64\n",
      "2434    567\n",
      "Name: U-Pb Record Count, dtype: int64\n"
     ]
    }
   ],
   "source": [
    "df = df_Sample_Details[df_Sample_Details['Ref_Sample_Key'] == 'R0069-S0466']\n",
    "#print(df.iloc[:,0:15])\n",
    "print(df['U-Pb Record Count'])\n",
    "df = df_Sample_Details[df_Sample_Details['Ref_Sample_Key'] == 'S06710-R928']\n",
    "#print(df.iloc[:,0:15])\n",
    "print(df['U-Pb Record Count'])\n",
    "df = df_Sample_Details[df_Sample_Details['Ref_Sample_Key'] == 'S17849-R2653']\n",
    "#print(df.iloc[:,0:15])\n",
    "print(df['U-Pb Record Count'])\n"
   ]
  },
  {
   "cell_type": "code",
   "execution_count": 12,
   "id": "sticky-secretariat",
   "metadata": {},
   "outputs": [
    {
     "name": "stdout",
     "output_type": "stream",
     "text": [
      "A\n",
      "b: 1.000000\n",
      "B\n",
      "b: 0.995800\n",
      "C\n",
      "b: 0.780490\n",
      "[None, None, poly1d([ 6.32406747e-12, -7.79601523e-09,  1.89122933e-06,  7.54821750e-04,\n",
      "        7.29993992e-01])]\n"
     ]
    },
    {
     "data": {
      "image/png": "[encoded data removed]",
      "text/plain": [
       "<Figure size 432x288 with 1 Axes>"
      ]
     },
     "metadata": {
      "needs_background": "light"
     },
     "output_type": "display_data"
    }
   ],
   "source": [
    "fig = plt.figure(figsize=(6,4), constrained_layout=True)\n",
    "\n",
    "#sample_tests = [17849, 8890, 17473]\n",
    "#sample_tests = ['R0069-S0466', 'S26795-R3363', 'S17849-R2653']\n",
    "sample_tests = ['R0069-S0466', 'S06710-R928', 'S17849-R2653']\n",
    "colors = ['r','b','g']\n",
    "ployfits = [False, False, True]\n",
    "run_times = 500\n",
    "df_ratios = DataFrame()\n",
    "fit_equation =[]\n",
    "for i, sample_test in enumerate(sample_tests):\n",
    "    all_ca, da = ca_da(sample_test)\n",
    "    df_ratio = n_r(sample_test, all_ca, da, run_times)\n",
    "    fit_equation.append(fitplot(df_ratio,colors[i],ployfit = ployfits[i]))\n",
    "    df_ratios = df_ratios.append(df_ratio)\n",
    "plt.xlim(0,500)\n",
    "#plt.yticks(np.arange(0.6,1.1,0.1),labels=['60','70','80','90','100'])\n",
    "\n",
    "print(fit_equation)\n",
    "plt.savefig('plots/figures/Figure2.png',dpi=600)\n",
    "plt.savefig('plots/figures/Figure2.pdf')"
   ]
  },
  {
   "cell_type": "code",
   "execution_count": 13,
   "id": "medium-twins",
   "metadata": {},
   "outputs": [
    {
     "data": {
      "text/html": [
       "<div>\n",
       "<style scoped>\n",
       "    .dataframe tbody tr th:only-of-type {\n",
       "        vertical-align: middle;\n",
       "    }\n",
       "\n",
       "    .dataframe tbody tr th {\n",
       "        vertical-align: top;\n",
       "    }\n",
       "\n",
       "    .dataframe thead th {\n",
       "        text-align: right;\n",
       "    }\n",
       "</style>\n",
       "<table border=\"1\" class=\"dataframe\">\n",
       "  <thead>\n",
       "    <tr style=\"text-align: right;\">\n",
       "      <th></th>\n",
       "      <th>type</th>\n",
       "      <th>number</th>\n",
       "      <th>ratio</th>\n",
       "      <th>ratio_A</th>\n",
       "      <th>ratio_B</th>\n",
       "      <th>ratio_C</th>\n",
       "    </tr>\n",
       "  </thead>\n",
       "  <tbody>\n",
       "    <tr>\n",
       "      <th>5</th>\n",
       "      <td>A</td>\n",
       "      <td>60</td>\n",
       "      <td>1.0000</td>\n",
       "      <td>1.0</td>\n",
       "      <td>0.0000</td>\n",
       "      <td>0.0000</td>\n",
       "    </tr>\n",
       "    <tr>\n",
       "      <th>5</th>\n",
       "      <td>B</td>\n",
       "      <td>60</td>\n",
       "      <td>0.9958</td>\n",
       "      <td>0.0</td>\n",
       "      <td>0.9958</td>\n",
       "      <td>0.0042</td>\n",
       "    </tr>\n",
       "    <tr>\n",
       "      <th>5</th>\n",
       "      <td>C</td>\n",
       "      <td>60</td>\n",
       "      <td>0.8252</td>\n",
       "      <td>0.0</td>\n",
       "      <td>0.1748</td>\n",
       "      <td>0.8252</td>\n",
       "    </tr>\n",
       "  </tbody>\n",
       "</table>\n",
       "</div>"
      ],
      "text/plain": [
       "  type  number   ratio  ratio_A  ratio_B  ratio_C\n",
       "5    A      60  1.0000      1.0   0.0000   0.0000\n",
       "5    B      60  0.9958      0.0   0.9958   0.0042\n",
       "5    C      60  0.8252      0.0   0.1748   0.8252"
      ]
     },
     "execution_count": 13,
     "metadata": {},
     "output_type": "execute_result"
    }
   ],
   "source": [
    "df_ratios[df_ratios['number']==60]"
   ]
  },
  {
   "cell_type": "code",
   "execution_count": null,
   "id": "solved-pointer",
   "metadata": {},
   "outputs": [],
   "source": []
  }
 ],
 "metadata": {
  "kernelspec": {
   "display_name": "pygmt",
   "language": "python",
   "name": "pygmt"
  },
  "language_info": {
   "codemirror_mode": {
    "name": "ipython",
    "version": 3
   },
   "file_extension": ".py",
   "mimetype": "text/x-python",
   "name": "python",
   "nbconvert_exporter": "python",
   "pygments_lexer": "ipython3",
   "version": "3.8.12"
  }
 },
 "nbformat": 4,
 "nbformat_minor": 5
}
