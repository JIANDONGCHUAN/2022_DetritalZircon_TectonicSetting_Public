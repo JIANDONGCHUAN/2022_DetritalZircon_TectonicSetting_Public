{
 "cells": [
  {
   "cell_type": "code",
   "execution_count": 24,
   "id": "05d107a3",
   "metadata": {},
   "outputs": [],
   "source": [
    "import pandas as pd\n",
    "import numpy as np\n",
    "import matplotlib.pyplot as plt\n",
    "from pandas import Series,DataFrame\n",
    "from numpy import nan as NaN\n"
   ]
  },
  {
   "cell_type": "code",
   "execution_count": 25,
   "id": "23c1ed07",
   "metadata": {},
   "outputs": [],
   "source": [
    "df_threshold = pd.read_csv('data/better_threshold.csv',sep=',')"
   ]
  },
  {
   "cell_type": "code",
   "execution_count": 26,
   "id": "615e4dfa",
   "metadata": {},
   "outputs": [
    {
     "name": "stdout",
     "output_type": "stream",
     "text": [
      "30100\n"
     ]
    },
    {
     "data": {
      "text/plain": [
       "Index(['y', 'x', 'PP', 'TP', 'FP', 'PN', 'TN', 'FN', 'sensitivity',\n",
       "       'specificity', 'precision', 'recall', 'accuracy', 'FPR', 'TPR', 'F1',\n",
       "       'F2', 'F_half'],\n",
       "      dtype='object')"
      ]
     },
     "execution_count": 26,
     "metadata": {},
     "output_type": "execute_result"
    }
   ],
   "source": [
    "print(len(df_threshold))\n",
    "df_threshold.columns"
   ]
  },
  {
   "cell_type": "code",
   "execution_count": 27,
   "id": "972a2b14-72ad-49bd-88bb-95bbfc34ddaf",
   "metadata": {},
   "outputs": [
    {
     "data": {
      "text/html": [
       "<div>\n",
       "<style scoped>\n",
       "    .dataframe tbody tr th:only-of-type {\n",
       "        vertical-align: middle;\n",
       "    }\n",
       "\n",
       "    .dataframe tbody tr th {\n",
       "        vertical-align: top;\n",
       "    }\n",
       "\n",
       "    .dataframe thead th {\n",
       "        text-align: right;\n",
       "    }\n",
       "</style>\n",
       "<table border=\"1\" class=\"dataframe\">\n",
       "  <thead>\n",
       "    <tr style=\"text-align: right;\">\n",
       "      <th></th>\n",
       "      <th>y</th>\n",
       "      <th>x</th>\n",
       "      <th>PP</th>\n",
       "      <th>TP</th>\n",
       "      <th>FP</th>\n",
       "      <th>PN</th>\n",
       "      <th>TN</th>\n",
       "      <th>FN</th>\n",
       "      <th>sensitivity</th>\n",
       "      <th>specificity</th>\n",
       "      <th>precision</th>\n",
       "      <th>recall</th>\n",
       "      <th>accuracy</th>\n",
       "      <th>FPR</th>\n",
       "      <th>TPR</th>\n",
       "      <th>F1</th>\n",
       "      <th>F2</th>\n",
       "      <th>F_half</th>\n",
       "    </tr>\n",
       "  </thead>\n",
       "  <tbody>\n",
       "    <tr>\n",
       "      <th>15080</th>\n",
       "      <td>0.5</td>\n",
       "      <td>300.0</td>\n",
       "      <td>1129.0</td>\n",
       "      <td>770.0</td>\n",
       "      <td>359.0</td>\n",
       "      <td>2137.0</td>\n",
       "      <td>1725.0</td>\n",
       "      <td>412.0</td>\n",
       "      <td>0.651438</td>\n",
       "      <td>0.827735</td>\n",
       "      <td>0.682019</td>\n",
       "      <td>0.651438</td>\n",
       "      <td>0.763931</td>\n",
       "      <td>0.172265</td>\n",
       "      <td>0.651438</td>\n",
       "      <td>0.666378</td>\n",
       "      <td>0.657333</td>\n",
       "      <td>0.559593</td>\n",
       "    </tr>\n",
       "  </tbody>\n",
       "</table>\n",
       "</div>"
      ],
      "text/plain": [
       "         y      x      PP     TP     FP      PN      TN     FN  sensitivity  \\\n",
       "15080  0.5  300.0  1129.0  770.0  359.0  2137.0  1725.0  412.0     0.651438   \n",
       "\n",
       "       specificity  precision    recall  accuracy       FPR       TPR  \\\n",
       "15080     0.827735   0.682019  0.651438  0.763931  0.172265  0.651438   \n",
       "\n",
       "             F1        F2    F_half  \n",
       "15080  0.666378  0.657333  0.559593  "
      ]
     },
     "execution_count": 27,
     "metadata": {},
     "output_type": "execute_result"
    }
   ],
   "source": [
    "df_threshold_BEP = DataFrame()\n",
    "for i in np.arange(len(df_threshold)):\n",
    "    a = df_threshold.iloc[i]\n",
    "    if np.around(a['precision'],1) == np.around(a['recall'],1):\n",
    "        df_threshold_BEP = df_threshold_BEP.append(a)\n",
    "        \n",
    "df_threshold_BEP[df_threshold_BEP['precision'] == df_threshold_BEP['precision'].max()]"
   ]
  },
  {
   "cell_type": "code",
   "execution_count": 28,
   "id": "e1161707-1b3a-4d69-aa61-af4b33b89e29",
   "metadata": {},
   "outputs": [
    {
     "data": {
      "text/plain": [
       "(0.0, 1.0)"
      ]
     },
     "execution_count": 28,
     "metadata": {},
     "output_type": "execute_result"
    },
    {
     "data": {
      "image/png": "[encoded data removed]",
      "text/plain": [
       "<Figure size 432x288 with 1 Axes>"
      ]
     },
     "metadata": {
      "needs_background": "light"
     },
     "output_type": "display_data"
    }
   ],
   "source": [
    "plt.plot(df_threshold_BEP['x'],df_threshold_BEP['y'],'.')\n",
    "plt.xlim(0,3000)\n",
    "plt.ylim(0,1)"
   ]
  },
  {
   "cell_type": "code",
   "execution_count": 32,
   "id": "7102032a-599c-43f2-9c3b-ce57b1ae15d9",
   "metadata": {},
   "outputs": [
    {
     "data": {
      "text/html": [
       "<div>\n",
       "<style scoped>\n",
       "    .dataframe tbody tr th:only-of-type {\n",
       "        vertical-align: middle;\n",
       "    }\n",
       "\n",
       "    .dataframe tbody tr th {\n",
       "        vertical-align: top;\n",
       "    }\n",
       "\n",
       "    .dataframe thead th {\n",
       "        text-align: right;\n",
       "    }\n",
       "</style>\n",
       "<table border=\"1\" class=\"dataframe\">\n",
       "  <thead>\n",
       "    <tr style=\"text-align: right;\">\n",
       "      <th></th>\n",
       "      <th>y</th>\n",
       "      <th>x</th>\n",
       "      <th>PP</th>\n",
       "      <th>TP</th>\n",
       "      <th>FP</th>\n",
       "      <th>PN</th>\n",
       "      <th>TN</th>\n",
       "      <th>FN</th>\n",
       "      <th>sensitivity</th>\n",
       "      <th>specificity</th>\n",
       "      <th>precision</th>\n",
       "      <th>recall</th>\n",
       "      <th>accuracy</th>\n",
       "      <th>FPR</th>\n",
       "      <th>TPR</th>\n",
       "      <th>F1</th>\n",
       "      <th>F2</th>\n",
       "      <th>F_half</th>\n",
       "    </tr>\n",
       "  </thead>\n",
       "  <tbody>\n",
       "    <tr>\n",
       "      <th>15080</th>\n",
       "      <td>0.50</td>\n",
       "      <td>300.0</td>\n",
       "      <td>1129.0</td>\n",
       "      <td>770.0</td>\n",
       "      <td>359.0</td>\n",
       "      <td>2137.0</td>\n",
       "      <td>1725.0</td>\n",
       "      <td>412.0</td>\n",
       "      <td>0.651438</td>\n",
       "      <td>0.827735</td>\n",
       "      <td>0.682019</td>\n",
       "      <td>0.651438</td>\n",
       "      <td>0.763931</td>\n",
       "      <td>0.172265</td>\n",
       "      <td>0.651438</td>\n",
       "      <td>0.666378</td>\n",
       "      <td>0.657333</td>\n",
       "      <td>0.559593</td>\n",
       "    </tr>\n",
       "    <tr>\n",
       "      <th>15684</th>\n",
       "      <td>0.52</td>\n",
       "      <td>320.0</td>\n",
       "      <td>1132.0</td>\n",
       "      <td>770.0</td>\n",
       "      <td>362.0</td>\n",
       "      <td>2134.0</td>\n",
       "      <td>1722.0</td>\n",
       "      <td>412.0</td>\n",
       "      <td>0.651438</td>\n",
       "      <td>0.826296</td>\n",
       "      <td>0.680212</td>\n",
       "      <td>0.651438</td>\n",
       "      <td>0.763013</td>\n",
       "      <td>0.173704</td>\n",
       "      <td>0.651438</td>\n",
       "      <td>0.665514</td>\n",
       "      <td>0.656997</td>\n",
       "      <td>0.558619</td>\n",
       "    </tr>\n",
       "  </tbody>\n",
       "</table>\n",
       "</div>"
      ],
      "text/plain": [
       "          y      x      PP     TP     FP      PN      TN     FN  sensitivity  \\\n",
       "15080  0.50  300.0  1129.0  770.0  359.0  2137.0  1725.0  412.0     0.651438   \n",
       "15684  0.52  320.0  1132.0  770.0  362.0  2134.0  1722.0  412.0     0.651438   \n",
       "\n",
       "       specificity  precision    recall  accuracy       FPR       TPR  \\\n",
       "15080     0.827735   0.682019  0.651438  0.763931  0.172265  0.651438   \n",
       "15684     0.826296   0.680212  0.651438  0.763013  0.173704  0.651438   \n",
       "\n",
       "             F1        F2    F_half  \n",
       "15080  0.666378  0.657333  0.559593  \n",
       "15684  0.665514  0.656997  0.558619  "
      ]
     },
     "execution_count": 32,
     "metadata": {},
     "output_type": "execute_result"
    }
   ],
   "source": [
    "df_threshold_BEP_good = df_threshold_BEP[df_threshold_BEP['precision']>0.68]\n",
    "df_threshold_BEP_good"
   ]
  },
  {
   "cell_type": "code",
   "execution_count": 30,
   "id": "e4b67331-87fd-4ab8-9f35-2807d6a21e43",
   "metadata": {},
   "outputs": [
    {
     "data": {
      "text/html": [
       "<div>\n",
       "<style scoped>\n",
       "    .dataframe tbody tr th:only-of-type {\n",
       "        vertical-align: middle;\n",
       "    }\n",
       "\n",
       "    .dataframe tbody tr th {\n",
       "        vertical-align: top;\n",
       "    }\n",
       "\n",
       "    .dataframe thead th {\n",
       "        text-align: right;\n",
       "    }\n",
       "</style>\n",
       "<table border=\"1\" class=\"dataframe\">\n",
       "  <thead>\n",
       "    <tr style=\"text-align: right;\">\n",
       "      <th></th>\n",
       "      <th>y</th>\n",
       "      <th>x</th>\n",
       "      <th>PP</th>\n",
       "      <th>TP</th>\n",
       "      <th>FP</th>\n",
       "      <th>PN</th>\n",
       "      <th>TN</th>\n",
       "      <th>FN</th>\n",
       "      <th>sensitivity</th>\n",
       "      <th>specificity</th>\n",
       "      <th>precision</th>\n",
       "      <th>recall</th>\n",
       "      <th>accuracy</th>\n",
       "      <th>FPR</th>\n",
       "      <th>TPR</th>\n",
       "      <th>F1</th>\n",
       "      <th>F2</th>\n",
       "      <th>F_half</th>\n",
       "    </tr>\n",
       "  </thead>\n",
       "  <tbody>\n",
       "    <tr>\n",
       "      <th>11164</th>\n",
       "      <td>0.37</td>\n",
       "      <td>270</td>\n",
       "      <td>1324</td>\n",
       "      <td>843</td>\n",
       "      <td>481</td>\n",
       "      <td>1942</td>\n",
       "      <td>1603</td>\n",
       "      <td>339</td>\n",
       "      <td>0.713198</td>\n",
       "      <td>0.769194</td>\n",
       "      <td>0.636707</td>\n",
       "      <td>0.713198</td>\n",
       "      <td>0.748928</td>\n",
       "      <td>0.230806</td>\n",
       "      <td>0.713198</td>\n",
       "      <td>0.672785</td>\n",
       "      <td>0.696464</td>\n",
       "      <td>0.550261</td>\n",
       "    </tr>\n",
       "  </tbody>\n",
       "</table>\n",
       "</div>"
      ],
      "text/plain": [
       "          y    x    PP   TP   FP    PN    TN   FN  sensitivity  specificity  \\\n",
       "11164  0.37  270  1324  843  481  1942  1603  339     0.713198     0.769194   \n",
       "\n",
       "       precision    recall  accuracy       FPR       TPR        F1        F2  \\\n",
       "11164   0.636707  0.713198  0.748928  0.230806  0.713198  0.672785  0.696464   \n",
       "\n",
       "         F_half  \n",
       "11164  0.550261  "
      ]
     },
     "execution_count": 30,
     "metadata": {},
     "output_type": "execute_result"
    }
   ],
   "source": [
    "best = df_threshold[df_threshold['F1']==df_threshold['F1'].max()]\n",
    "best"
   ]
  },
  {
   "cell_type": "code",
   "execution_count": 36,
   "id": "d06a7187-0357-4162-b058-60109733a824",
   "metadata": {},
   "outputs": [
    {
     "data": {
      "text/html": [
       "<div>\n",
       "<style scoped>\n",
       "    .dataframe tbody tr th:only-of-type {\n",
       "        vertical-align: middle;\n",
       "    }\n",
       "\n",
       "    .dataframe tbody tr th {\n",
       "        vertical-align: top;\n",
       "    }\n",
       "\n",
       "    .dataframe thead th {\n",
       "        text-align: right;\n",
       "    }\n",
       "</style>\n",
       "<table border=\"1\" class=\"dataframe\">\n",
       "  <thead>\n",
       "    <tr style=\"text-align: right;\">\n",
       "      <th></th>\n",
       "      <th>y</th>\n",
       "      <th>x</th>\n",
       "      <th>PP</th>\n",
       "      <th>TP</th>\n",
       "      <th>FP</th>\n",
       "      <th>PN</th>\n",
       "      <th>TN</th>\n",
       "      <th>FN</th>\n",
       "      <th>sensitivity</th>\n",
       "      <th>specificity</th>\n",
       "      <th>precision</th>\n",
       "      <th>recall</th>\n",
       "      <th>accuracy</th>\n",
       "      <th>FPR</th>\n",
       "      <th>TPR</th>\n",
       "      <th>F1</th>\n",
       "      <th>F2</th>\n",
       "      <th>F_half</th>\n",
       "    </tr>\n",
       "  </thead>\n",
       "  <tbody>\n",
       "    <tr>\n",
       "      <th>9040</th>\n",
       "      <td>0.3</td>\n",
       "      <td>100</td>\n",
       "      <td>939</td>\n",
       "      <td>644</td>\n",
       "      <td>295</td>\n",
       "      <td>2327</td>\n",
       "      <td>1789</td>\n",
       "      <td>538</td>\n",
       "      <td>0.544839</td>\n",
       "      <td>0.858445</td>\n",
       "      <td>0.685836</td>\n",
       "      <td>0.544839</td>\n",
       "      <td>0.744948</td>\n",
       "      <td>0.141555</td>\n",
       "      <td>0.544839</td>\n",
       "      <td>0.607261</td>\n",
       "      <td>0.568202</td>\n",
       "      <td>0.526144</td>\n",
       "    </tr>\n",
       "  </tbody>\n",
       "</table>\n",
       "</div>"
      ],
      "text/plain": [
       "        y    x   PP   TP   FP    PN    TN   FN  sensitivity  specificity  \\\n",
       "9040  0.3  100  939  644  295  2327  1789  538     0.544839     0.858445   \n",
       "\n",
       "      precision    recall  accuracy       FPR       TPR        F1        F2  \\\n",
       "9040   0.685836  0.544839  0.744948  0.141555  0.544839  0.607261  0.568202   \n",
       "\n",
       "        F_half  \n",
       "9040  0.526144  "
      ]
     },
     "execution_count": 36,
     "metadata": {},
     "output_type": "execute_result"
    }
   ],
   "source": [
    "a = df_threshold[df_threshold['x']==100]\n",
    "b = a[a['y']==0.30]\n",
    "b"
   ]
  },
  {
   "cell_type": "code",
   "execution_count": 37,
   "id": "8422e5d3-0bd2-41a4-a6e1-613796acf278",
   "metadata": {},
   "outputs": [
    {
     "data": {
      "image/png": "[encoded data removed]",
      "text/plain": [
       "<Figure size 1152x288 with 6 Axes>"
      ]
     },
     "metadata": {
      "needs_background": "light"
     },
     "output_type": "display_data"
    }
   ],
   "source": [
    "fig, ax = plt.subplots(1, 3, figsize = (16,4))\n",
    "value1 = np.arange(0,1,0.01)\n",
    "value2 = np.arange(0,3010,10)\n",
    "titles = ('(a) Precision','(b) Recall','(c) F$-$score')\n",
    "precision1 = '68.6 %'\n",
    "precision2 = '63.7 %'\n",
    "precision3 = '68.2 %'\n",
    "recall1 = '54.5 %'\n",
    "recall2 = '71.3 %'\n",
    "recall3 = '65.1 %'\n",
    "F11 = '0.607'\n",
    "F12 = '0.673'\n",
    "F13 = '0.666'\n",
    "\n",
    "tests1 = ['Previous:  '+precision1, 'Previous: '+recall1, 'Previous: '+F11]\n",
    "tests2 = ['Best F$-$score:  '+precision2, 'Best F$-$score: '+recall2, 'Best F$-$score: '+F12]\n",
    "tests3 = ['Best BEP:  '+precision3, 'Best BEP: '+recall3, 'Best BEP: '+F13]\n",
    "for i, key in enumerate(['precision','sensitivity','F1']):\n",
    "    #cm = ax[i].contourf(value2, value1, np.reshape(np.array(df_threshold[key]), (len(value1), len(value2))), levels=20)\n",
    "    cm = ax[i].contourf(value2, value1, np.reshape(np.array(df_threshold[key]), (len(value1), len(value2))), vmin=0, vmax=1, levels=15, cmap= plt.cm.magma_r)\n",
    "    ax[i].set_xlim(0,3000)\n",
    "    ax[i].set_ylim(0,1)\n",
    "    ax[i].set_title(titles[i])\n",
    "    plt.colorbar(cm, ax=ax[i])\n",
    "    ax[i].scatter(x=100,y=0.30, zorder=2, color='yellow')\n",
    "    ax[i].scatter(x=270,y=0.37, zorder=2, color='Gainsboro')\n",
    "    ax[i].scatter(x=300,y=0.5, zorder=2, color='SpringGreen')\n",
    "    ax[i].set_xlabel('Lag time (Ma)')\n",
    "    ax[i].set_ylabel('Cumulative proportion')\n",
    "    \n",
    "    ax[i].annotate(tests1[i], color = 'yellow',\n",
    "            xy=(200, 0.3),\n",
    "            xytext=(1300, 0.28),\n",
    "            arrowprops=dict(color = 'yellow', arrowstyle=\"wedge\",\n",
    "                            connectionstyle=\"arc3\"),\n",
    "                      horizontalalignment='left', verticalalignment='bottom')\n",
    "    ax[i].annotate(tests2[i], color = 'Gainsboro',\n",
    "        xy=(370, 0.37),\n",
    "        xytext=(1300, 0.35),\n",
    "        arrowprops=dict(color = 'Gainsboro', arrowstyle=\"wedge\",\n",
    "                        connectionstyle=\"arc3\"),\n",
    "                  horizontalalignment='left', verticalalignment='bottom')\n",
    "    ax[i].annotate(tests3[i], color = 'SpringGreen',\n",
    "        xy=(400, 0.5),\n",
    "        xytext=(1300, 0.48),\n",
    "        arrowprops=dict(color = 'SpringGreen', arrowstyle=\"wedge\",\n",
    "                        connectionstyle=\"arc3\"),\n",
    "                  horizontalalignment='left', verticalalignment='bottom')\n",
    "    #ax[i].text(x=1300,y=0.21,s=tests1[i],color='yellow',horizontalalignment='left', verticalalignment='bottom')\n",
    "    #ax[i].text(x=1300,y=0.42,s=tests3[i],color='SpringGreen',horizontalalignment='left', verticalalignment='bottom')\n",
    "    \n",
    "plt.savefig('plots/figures/Figure8.png', dpi=600)    \n",
    "plt.savefig('plots/figures/Figure8.pdf')   "
   ]
  },
  {
   "cell_type": "code",
   "execution_count": null,
   "id": "205471fa-49af-42a6-b189-60a98d4c6e2c",
   "metadata": {},
   "outputs": [],
   "source": []
  },
  {
   "cell_type": "code",
   "execution_count": 16,
   "id": "38ac3b28-9364-4c66-b0c6-3285c7493398",
   "metadata": {},
   "outputs": [
    {
     "data": {
      "text/html": [
       "<div>\n",
       "<style scoped>\n",
       "    .dataframe tbody tr th:only-of-type {\n",
       "        vertical-align: middle;\n",
       "    }\n",
       "\n",
       "    .dataframe tbody tr th {\n",
       "        vertical-align: top;\n",
       "    }\n",
       "\n",
       "    .dataframe thead th {\n",
       "        text-align: right;\n",
       "    }\n",
       "</style>\n",
       "<table border=\"1\" class=\"dataframe\">\n",
       "  <thead>\n",
       "    <tr style=\"text-align: right;\">\n",
       "      <th></th>\n",
       "      <th>y</th>\n",
       "      <th>x</th>\n",
       "      <th>PP</th>\n",
       "      <th>TP</th>\n",
       "      <th>FP</th>\n",
       "      <th>PN</th>\n",
       "      <th>TN</th>\n",
       "      <th>FN</th>\n",
       "      <th>sensitivity</th>\n",
       "      <th>specificity</th>\n",
       "      <th>precision</th>\n",
       "      <th>recall</th>\n",
       "      <th>accuracy</th>\n",
       "      <th>FPR</th>\n",
       "      <th>TPR</th>\n",
       "      <th>F1</th>\n",
       "      <th>F2</th>\n",
       "      <th>F_half</th>\n",
       "    </tr>\n",
       "  </thead>\n",
       "  <tbody>\n",
       "    <tr>\n",
       "      <th>15382</th>\n",
       "      <td>0.51</td>\n",
       "      <td>310</td>\n",
       "      <td>1137</td>\n",
       "      <td>774</td>\n",
       "      <td>363</td>\n",
       "      <td>2140</td>\n",
       "      <td>1727</td>\n",
       "      <td>413</td>\n",
       "      <td>0.652064</td>\n",
       "      <td>0.826316</td>\n",
       "      <td>0.680739</td>\n",
       "      <td>0.652064</td>\n",
       "      <td>0.763198</td>\n",
       "      <td>0.173684</td>\n",
       "      <td>0.652064</td>\n",
       "      <td>0.666093</td>\n",
       "      <td>0.657604</td>\n",
       "      <td>0.559087</td>\n",
       "    </tr>\n",
       "  </tbody>\n",
       "</table>\n",
       "</div>"
      ],
      "text/plain": [
       "          y    x    PP   TP   FP    PN    TN   FN  sensitivity  specificity  \\\n",
       "15382  0.51  310  1137  774  363  2140  1727  413     0.652064     0.826316   \n",
       "\n",
       "       precision    recall  accuracy       FPR       TPR        F1        F2  \\\n",
       "15382   0.680739  0.652064  0.763198  0.173684  0.652064  0.666093  0.657604   \n",
       "\n",
       "         F_half  \n",
       "15382  0.559087  "
      ]
     },
     "execution_count": 16,
     "metadata": {},
     "output_type": "execute_result"
    }
   ],
   "source": [
    "best = df_threshold[np.logical_and(df_threshold['F1'] >= 0.65 , df_threshold['precision'] >= 0.68 )]\n",
    "best = best[best['recall']==best['recall'].max()]\n",
    "best"
   ]
  },
  {
   "cell_type": "code",
   "execution_count": null,
   "id": "ec87f135-2dd8-4271-b3d4-d6fb96e117ba",
   "metadata": {},
   "outputs": [],
   "source": []
  },
  {
   "cell_type": "code",
   "execution_count": 11,
   "id": "1a759b6f-1457-4357-a2e0-613e3b503230",
   "metadata": {},
   "outputs": [],
   "source": [
    "roc1 = df_threshold[np.logical_and(df_threshold['x'] <= 100 , df_threshold['y'] <= 0.3 )]\n",
    "roc2 = df_threshold[np.logical_and(df_threshold['x'] <= 310 , df_threshold['y'] <= 0.51 )]\n"
   ]
  },
  {
   "cell_type": "code",
   "execution_count": 13,
   "id": "e69fe2df-7bf2-4b5c-b60a-a2f31fcf0f03",
   "metadata": {},
   "outputs": [
    {
     "data": {
      "image/png": "[encoded data removed]",
      "text/plain": [
       "<Figure size 432x288 with 1 Axes>"
      ]
     },
     "metadata": {
      "needs_background": "light"
     },
     "output_type": "display_data"
    }
   ],
   "source": [
    "df_threshold_order_FPR = roc2.sort_values(by=\"FPR\" , ascending=True)\n",
    "df_threshold_order_FPR\n",
    "\n",
    "from sklearn import metrics\n",
    "auc = metrics.auc(df_threshold_order_FPR.FPR, df_threshold_order_FPR.TPR)\n",
    "\n",
    "plt.figure()\n",
    "lw = 2\n",
    "plt.plot(df_threshold_order_FPR.FPR, df_threshold_order_FPR.TPR, color='darkorange',\n",
    "         lw=lw, label='ROC curve (area = %0.2f)' % auc)\n",
    "plt.plot([0, 1], [0, 1], color='navy', lw=lw, linestyle='--')\n",
    "plt.xlim([0.0, 1.0])\n",
    "plt.ylim([0.0, 1.05])\n",
    "plt.xlabel('False Positive Rate')\n",
    "plt.ylabel('True Positive Rate')\n",
    "plt.title('Receiver operating characteristic example')\n",
    "plt.legend(loc=\"lower right\")\n",
    "plt.show()"
   ]
  },
  {
   "cell_type": "code",
   "execution_count": null,
   "id": "47e2015f-7614-46c0-93d3-e4611cab5875",
   "metadata": {},
   "outputs": [],
   "source": []
  }
 ],
 "metadata": {
  "kernelspec": {
   "display_name": "pygmt",
   "language": "python",
   "name": "pygmt"
  },
  "language_info": {
   "codemirror_mode": {
    "name": "ipython",
    "version": 3
   },
   "file_extension": ".py",
   "mimetype": "text/x-python",
   "name": "python",
   "nbconvert_exporter": "python",
   "pygments_lexer": "ipython3",
   "version": "3.8.12"
  }
 },
 "nbformat": 4,
 "nbformat_minor": 5
}
